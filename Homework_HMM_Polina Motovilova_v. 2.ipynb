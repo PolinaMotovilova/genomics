{
 "cells": [
  {
   "cell_type": "code",
   "execution_count": 1,
   "metadata": {},
   "outputs": [],
   "source": [
    "import numpy as np\n",
    "import random\n",
    "import matplotlib.pyplot as plt\n",
    "import math"
   ]
  },
  {
   "cell_type": "code",
   "execution_count": 2,
   "metadata": {},
   "outputs": [],
   "source": [
    "M = 2 #number of states\n",
    "K = 6 #number of possible emissions\n",
    "L = 300 #length of sequence\n",
    "#beginning distribution is solution for system of equations: \n",
    "#(x,y)transition_matrix = x\n",
    "#x + y = 1\n",
    "pi = np.array([2.0/3, 1.0/3])\n",
    "transition_matrix = np.array([\n",
    "    [0.95, 0.05],\n",
    "    [0.1, 0.9]]\n",
    ")\n",
    "emission_matrix = np.array([\n",
    "    [1.0/6, 1.0/6, 1.0/6, 1.0/6, 1.0/6, 1.0/6],\n",
    "    [1.0/10, 1.0/10, 1.0/10, 1.0/10, 1.0/10, 5.0/10]]\n",
    ")"
   ]
  },
  {
   "cell_type": "code",
   "execution_count": 3,
   "metadata": {},
   "outputs": [],
   "source": [
    "dices = [0, 1]\n",
    "score = [0, 1, 2, 3, 4, 5]\n",
    "hidden_sequence = np.zeros(L, dtype=np.int)\n",
    "observed_sequence = np.zeros(L, dtype=np.int)\n",
    "hidden_sequence[0] = np.random.choice(dices, 1, p = pi)\n",
    "for i in range(1, L):\n",
    "    hidden_sequence[i] = np.random.choice(dices, 1, p = transition_matrix[int(hidden_sequence[i-1])])\n",
    "    observed_sequence[i] = np.random.choice(score, 1, p = emission_matrix[int(hidden_sequence[i-1])])"
   ]
  },
  {
   "cell_type": "code",
   "execution_count": 4,
   "metadata": {},
   "outputs": [
    {
     "data": {
      "text/plain": [
       "array([1, 0, 0, 0, 0, 0, 0, 0, 0, 0, 0, 0, 0, 0, 0, 0, 0, 0, 0, 1, 1, 1,\n",
       "       1, 1, 1, 1, 0, 0, 0, 0, 0, 0, 0, 0, 0, 0, 0, 0, 0, 0, 0, 0, 0, 0,\n",
       "       0, 0, 0, 0, 0, 0, 0, 0, 0, 0, 0, 0, 0, 0, 0, 0, 0, 0, 0, 0, 0, 0,\n",
       "       1, 1, 1, 1, 1, 1, 1, 1, 1, 1, 0, 0, 0, 0, 0, 0, 1, 0, 0, 0, 0, 0,\n",
       "       0, 0, 0, 0, 0, 0, 0, 0, 0, 0, 0, 0, 0, 0, 0, 0, 0, 0, 0, 0, 0, 1,\n",
       "       1, 0, 1, 1, 1, 1, 1, 1, 1, 1, 1, 0, 0, 0, 0, 0, 0, 0, 0, 0, 0, 0,\n",
       "       0, 0, 0, 0, 0, 0, 0, 0, 0, 0, 0, 1, 1, 1, 1, 1, 1, 1, 1, 1, 1, 1,\n",
       "       0, 1, 1, 1, 1, 1, 1, 1, 1, 1, 1, 1, 1, 1, 1, 1, 1, 1, 0, 0, 0, 0,\n",
       "       0, 0, 0, 0, 0, 0, 0, 0, 0, 0, 0, 0, 0, 0, 0, 0, 0, 0, 0, 0, 0, 0,\n",
       "       0, 0, 0, 0, 0, 0, 0, 0, 0, 0, 0, 0, 0, 0, 0, 0, 0, 0, 0, 0, 0, 0,\n",
       "       0, 0, 0, 0, 0, 0, 0, 0, 0, 0, 0, 0, 0, 0, 0, 0, 0, 0, 0, 0, 0, 0,\n",
       "       0, 0, 0, 0, 0, 0, 0, 0, 0, 0, 0, 0, 0, 0, 0, 1, 1, 1, 1, 1, 1, 1,\n",
       "       1, 1, 1, 1, 1, 1, 1, 1, 1, 1, 1, 1, 1, 1, 1, 1, 1, 1, 1, 1, 1, 1,\n",
       "       1, 0, 0, 0, 0, 0, 0, 0, 0, 0, 0, 0, 0, 0])"
      ]
     },
     "execution_count": 4,
     "metadata": {},
     "output_type": "execute_result"
    }
   ],
   "source": [
    "hidden_sequence"
   ]
  },
  {
   "cell_type": "code",
   "execution_count": 5,
   "metadata": {},
   "outputs": [
    {
     "data": {
      "text/plain": [
       "array([0, 5, 1, 0, 1, 1, 3, 1, 5, 2, 5, 2, 5, 3, 4, 0, 5, 3, 5, 3, 3, 0,\n",
       "       4, 0, 4, 5, 5, 5, 1, 5, 5, 5, 4, 3, 1, 1, 3, 3, 1, 1, 0, 4, 1, 2,\n",
       "       4, 2, 2, 5, 3, 5, 0, 5, 3, 0, 2, 2, 1, 5, 1, 0, 0, 3, 2, 5, 0, 1,\n",
       "       4, 5, 1, 5, 0, 0, 2, 1, 3, 5, 5, 1, 4, 1, 3, 4, 4, 1, 0, 4, 1, 1,\n",
       "       1, 5, 5, 3, 4, 1, 0, 1, 3, 4, 4, 2, 0, 5, 2, 2, 5, 4, 5, 4, 5, 5,\n",
       "       5, 0, 4, 0, 5, 5, 5, 5, 2, 5, 4, 2, 5, 3, 4, 1, 5, 0, 5, 5, 0, 4,\n",
       "       4, 3, 0, 3, 2, 2, 4, 3, 2, 0, 1, 5, 5, 3, 5, 5, 5, 5, 3, 3, 1, 4,\n",
       "       1, 4, 0, 5, 5, 5, 5, 0, 3, 0, 5, 1, 5, 4, 5, 5, 5, 5, 1, 0, 3, 2,\n",
       "       4, 3, 3, 3, 3, 3, 1, 3, 0, 1, 3, 1, 3, 0, 0, 1, 0, 4, 2, 2, 0, 0,\n",
       "       1, 5, 2, 3, 5, 4, 1, 2, 3, 2, 0, 3, 2, 3, 0, 4, 0, 4, 1, 1, 4, 5,\n",
       "       5, 3, 5, 1, 3, 5, 5, 2, 2, 2, 0, 3, 2, 3, 0, 3, 5, 1, 2, 4, 1, 0,\n",
       "       2, 2, 5, 4, 1, 4, 3, 0, 3, 2, 0, 0, 4, 1, 4, 3, 5, 0, 5, 0, 3, 2,\n",
       "       5, 3, 2, 5, 4, 3, 1, 2, 3, 5, 5, 5, 4, 5, 5, 5, 5, 0, 1, 3, 4, 1,\n",
       "       4, 0, 4, 2, 3, 0, 1, 0, 5, 3, 5, 4, 2, 1])"
      ]
     },
     "execution_count": 5,
     "metadata": {},
     "output_type": "execute_result"
    }
   ],
   "source": [
    "observed_sequence"
   ]
  },
  {
   "cell_type": "code",
   "execution_count": 6,
   "metadata": {},
   "outputs": [
    {
     "name": "stdout",
     "output_type": "stream",
     "text": [
      "[[-0.02227639 -1.30103   ]\n",
      " [-1.         -0.04575749]]\n"
     ]
    }
   ],
   "source": [
    "#transition matrix log transformation\n",
    "transition_matrix_log10 = np.zeros((M, M))\n",
    "for i in range(M):\n",
    "    for j in range(M):\n",
    "        transition_matrix_log10[i, j] = math.log(transition_matrix[i, j], 10)\n",
    "print(transition_matrix_log10)"
   ]
  },
  {
   "cell_type": "code",
   "execution_count": 7,
   "metadata": {},
   "outputs": [
    {
     "name": "stdout",
     "output_type": "stream",
     "text": [
      "[[-0.77815125 -0.77815125 -0.77815125 -0.77815125 -0.77815125 -0.77815125]\n",
      " [-1.         -1.         -1.         -1.         -1.         -0.30103   ]]\n"
     ]
    }
   ],
   "source": [
    "#emission matrix log transformation\n",
    "emission_matrix_log10 = np.zeros((M, K))\n",
    "for i in range(M):\n",
    "    for j in range(K):\n",
    "        emission_matrix_log10[i, j] = math.log(emission_matrix[i, j], 10)\n",
    "print(emission_matrix_log10)"
   ]
  },
  {
   "cell_type": "code",
   "execution_count": 8,
   "metadata": {},
   "outputs": [],
   "source": [
    "def viterbi(obs, pi, trans, emis):\n",
    "    N = trans.shape[0]\n",
    "    delta = np.zeros((L, N))\n",
    "    psi = np.zeros((L, N))\n",
    "    delta[0] = pi*emis[:,obs[0]]\n",
    "    for l in range(1, L):\n",
    "        for j in range(N):\n",
    "            delta[l,j] = np.max(delta[l-1] + trans[:,j]) + emis[j, obs[l]]\n",
    "            psi[l,j] = np.argmax(delta[l-1] + trans[:,j])\n",
    "\n",
    "    states = np.zeros(L, dtype=np.int32)\n",
    "    states[L-1] = np.argmax(delta[L-1])\n",
    "    for l in range(L-2, -1, -1):\n",
    "        states[l] = psi[l+1, states[l+1]]\n",
    "    return states"
   ]
  },
  {
   "cell_type": "code",
   "execution_count": 9,
   "metadata": {},
   "outputs": [
    {
     "data": {
      "text/plain": [
       "array([0, 0, 0, 0, 0, 0, 0, 0, 0, 0, 0, 0, 0, 0, 0, 0, 0, 0, 0, 0, 0, 0,\n",
       "       0, 0, 0, 1, 1, 1, 1, 1, 1, 1, 0, 0, 0, 0, 0, 0, 0, 0, 0, 0, 0, 0,\n",
       "       0, 0, 0, 0, 0, 0, 0, 0, 0, 0, 0, 0, 0, 0, 0, 0, 0, 0, 0, 0, 0, 0,\n",
       "       0, 0, 0, 0, 0, 0, 0, 0, 0, 0, 0, 0, 0, 0, 0, 0, 0, 0, 0, 0, 0, 0,\n",
       "       0, 0, 0, 0, 0, 0, 0, 0, 0, 0, 0, 0, 0, 0, 0, 0, 1, 1, 1, 1, 1, 1,\n",
       "       1, 1, 1, 1, 1, 1, 1, 1, 1, 1, 1, 1, 1, 1, 1, 1, 1, 1, 1, 1, 0, 0,\n",
       "       0, 0, 0, 0, 0, 0, 0, 0, 0, 0, 0, 1, 1, 1, 1, 1, 1, 1, 1, 1, 1, 1,\n",
       "       1, 1, 1, 1, 1, 1, 1, 1, 1, 1, 1, 1, 1, 1, 1, 1, 1, 1, 0, 0, 0, 0,\n",
       "       0, 0, 0, 0, 0, 0, 0, 0, 0, 0, 0, 0, 0, 0, 0, 0, 0, 0, 0, 0, 0, 0,\n",
       "       0, 0, 0, 0, 0, 0, 0, 0, 0, 0, 0, 0, 0, 0, 0, 0, 0, 0, 0, 0, 0, 0,\n",
       "       0, 0, 0, 0, 0, 0, 0, 0, 0, 0, 0, 0, 0, 0, 0, 0, 0, 0, 0, 0, 0, 0,\n",
       "       0, 0, 0, 0, 0, 0, 0, 0, 0, 0, 0, 0, 0, 0, 0, 0, 0, 0, 0, 0, 0, 0,\n",
       "       0, 0, 0, 0, 0, 0, 0, 0, 0, 1, 1, 1, 1, 1, 1, 1, 1, 0, 0, 0, 0, 0,\n",
       "       0, 0, 0, 0, 0, 0, 0, 0, 0, 0, 0, 0, 0, 0])"
      ]
     },
     "execution_count": 9,
     "metadata": {},
     "output_type": "execute_result"
    }
   ],
   "source": [
    "viterbi_path_log10=viterbi(observed_sequence, pi, transition_matrix_log10, emission_matrix_log10)\n",
    "viterbi_path_log10"
   ]
  },
  {
   "cell_type": "code",
   "execution_count": 10,
   "metadata": {},
   "outputs": [
    {
     "data": {
      "image/png": "[encoded data removed]",
      "text/plain": [
       "<Figure size 576x432 with 1 Axes>"
      ]
     },
     "metadata": {
      "needs_background": "light"
     },
     "output_type": "display_data"
    }
   ],
   "source": [
    "x = np.linspace(0, L, L)\n",
    "fig, ax = plt.subplots(1,1,figsize=(8, 6))\n",
    "ax.plot(x, hidden_sequence, ls ='-', color = 'blue')\n",
    "ax.plot(x, viterbi_path_log10, ls ='--', color = 'orange')\n",
    "plt.title('Simulated path vs Viterbi most likely path')\n",
    "plt.grid()\n",
    "plt.show()"
   ]
  },
  {
   "cell_type": "code",
   "execution_count": 11,
   "metadata": {},
   "outputs": [],
   "source": [
    "#forward algorithm\n",
    "def forward(obs, pi, trans, emis):\n",
    "    forw = np.zeros((L, M))\n",
    "    forw[0] = pi*emis[:,obs[0]]\n",
    "    for l in range(1, L):\n",
    "        forw[l] = np.dot(forw[l-1],trans) * emis[:, obs[l]]\n",
    "    forw_prob = forw[-1].sum()\n",
    "    return forw, forw_prob"
   ]
  },
  {
   "cell_type": "code",
   "execution_count": 12,
   "metadata": {},
   "outputs": [
    {
     "data": {
      "text/plain": [
       "9.463600935364426e-229"
      ]
     },
     "execution_count": 12,
     "metadata": {},
     "output_type": "execute_result"
    }
   ],
   "source": [
    "forw, forw_prob = forward(observed_sequence, pi, transition_matrix, emission_matrix)\n",
    "forw_prob"
   ]
  },
  {
   "cell_type": "code",
   "execution_count": 13,
   "metadata": {},
   "outputs": [],
   "source": [
    "#backward algorithm\n",
    "def backward(obs, pi, trans, emis):\n",
    "    back = np.zeros((M,L))\n",
    "    back[:,-1:] = 1\n",
    "    for l in reversed(range(L-1)):\n",
    "        for m in range(M):\n",
    "            back[m,l] = np.sum(back[:,l+1] * trans[m,:] * emis[:,obs[l+1]])\n",
    "    back_prob = np.sum(pi * emis[:, obs[0]] * back[:,0])\n",
    "    return back, back_prob"
   ]
  },
  {
   "cell_type": "code",
   "execution_count": 14,
   "metadata": {},
   "outputs": [
    {
     "data": {
      "text/plain": [
       "9.463600935364428e-229"
      ]
     },
     "execution_count": 14,
     "metadata": {},
     "output_type": "execute_result"
    }
   ],
   "source": [
    "back, back_prob = backward(observed_sequence, pi, transition_matrix, emission_matrix)\n",
    "back_prob"
   ]
  },
  {
   "cell_type": "code",
   "execution_count": 15,
   "metadata": {},
   "outputs": [
    {
     "data": {
      "text/plain": [
       "array([[0.77860299, 0.22139701],\n",
       "       [0.76537215, 0.23462785],\n",
       "       [0.834495  , 0.165505  ],\n",
       "       [0.86822099, 0.13177901],\n",
       "       [0.87846002, 0.12153998],\n",
       "       [0.86882788, 0.13117212],\n",
       "       [0.83592309, 0.16407691],\n",
       "       [0.76812575, 0.23187425],\n",
       "       [0.64149408, 0.35850592],\n",
       "       [0.62428208, 0.37571792],\n",
       "       [0.56207033, 0.43792967],\n",
       "       [0.58664942, 0.41335058],\n",
       "       [0.56984819, 0.43015181],\n",
       "       [0.6420538 , 0.3579462 ],\n",
       "       [0.66755042, 0.33244958],\n",
       "       [0.65534185, 0.34465815],\n",
       "       [0.60111679, 0.39888321],\n",
       "       [0.63232198, 0.36767802],\n",
       "       [0.62372468, 0.37627532],\n",
       "       [0.7069989 , 0.2930011 ],\n",
       "       [0.74328837, 0.25671163],\n",
       "       [0.74540825, 0.25459175],\n",
       "       [0.71410714, 0.28589286],\n",
       "       [0.63833148, 0.36166852],\n",
       "       [0.49132203, 0.50867797],\n",
       "       [0.22116429, 0.77883571],\n",
       "       [0.130833  , 0.869167  ],\n",
       "       [0.10971661, 0.89028339],\n",
       "       [0.13195787, 0.86804213],\n",
       "       [0.11568883, 0.88431117],\n",
       "       [0.14447902, 0.85552098],\n",
       "       [0.2535823 , 0.7464177 ],\n",
       "       [0.5765967 , 0.4234033 ],\n",
       "       [0.75637879, 0.24362121],\n",
       "       [0.85641632, 0.14358368],\n",
       "       [0.91203629, 0.08796371],\n",
       "       [0.94288017, 0.05711983],\n",
       "       [0.95984007, 0.04015993],\n",
       "       [0.96890519, 0.03109481],\n",
       "       [0.97327674, 0.02672326],\n",
       "       [0.97449848, 0.02550152],\n",
       "       [0.97300187, 0.02699813],\n",
       "       [0.96825838, 0.03174162],\n",
       "       [0.95859291, 0.04140709],\n",
       "       [0.94059223, 0.05940777],\n",
       "       [0.90789962, 0.09210038],\n",
       "       [0.84897012, 0.15102988],\n",
       "       [0.74299351, 0.25700649],\n",
       "       [0.73444605, 0.26555395],\n",
       "       [0.68986617, 0.31013383],\n",
       "       [0.72757878, 0.27242122],\n",
       "       [0.72991945, 0.27008055],\n",
       "       [0.82596431, 0.17403569],\n",
       "       [0.87717471, 0.12282529],\n",
       "       [0.90163495, 0.09836505],\n",
       "       [0.90798286, 0.09201714],\n",
       "       [0.89846013, 0.10153987],\n",
       "       [0.86970392, 0.13029608],\n",
       "       [0.90636135, 0.09363865],\n",
       "       [0.92302539, 0.07697461],\n",
       "       [0.92558071, 0.07441929],\n",
       "       [0.91492971, 0.08507029],\n",
       "       [0.88731111, 0.11268889],\n",
       "       [0.83297175, 0.16702825],\n",
       "       [0.85148015, 0.14851985],\n",
       "       [0.84671394, 0.15328606],\n",
       "       [0.81698999, 0.18301001],\n",
       "       [0.75181167, 0.24818833],\n",
       "       [0.76876445, 0.23123555],\n",
       "       [0.75490108, 0.24509892],\n",
       "       [0.82404903, 0.17595097],\n",
       "       [0.85706367, 0.14293633],\n",
       "       [0.86560373, 0.13439627],\n",
       "       [0.85268501, 0.14731499],\n",
       "       [0.81374543, 0.18625457],\n",
       "       [0.73503397, 0.26496603],\n",
       "       [0.74335467, 0.25664533],\n",
       "       [0.84889628, 0.15110372],\n",
       "       [0.90754668, 0.09245332],\n",
       "       [0.94001749, 0.05998251],\n",
       "       [0.95777537, 0.04222463],\n",
       "       [0.96709129, 0.03290871],\n",
       "       [0.97125505, 0.02874495],\n",
       "       [0.97173703, 0.02826297],\n",
       "       [0.96870743, 0.03129257],\n",
       "       [0.96109639, 0.03890361],\n",
       "       [0.94621617, 0.05378383],\n",
       "       [0.91881201, 0.08118799],\n",
       "       [0.86920647, 0.13079353],\n",
       "       [0.77988199, 0.22011801],\n",
       "       [0.77910213, 0.22089787],\n",
       "       [0.86591194, 0.13408806],\n",
       "       [0.91367007, 0.08632993],\n",
       "       [0.93924171, 0.06075829],\n",
       "       [0.95165715, 0.04834285],\n",
       "       [0.95530074, 0.04469926],\n",
       "       [0.95145916, 0.04854084],\n",
       "       [0.93877583, 0.06122417],\n",
       "       [0.91277178, 0.08722822],\n",
       "       [0.864264  , 0.135736  ],\n",
       "       [0.77612261, 0.22387739],\n",
       "       [0.61722158, 0.38277842],\n",
       "       [0.58415424, 0.41584576],\n",
       "       [0.49879037, 0.50120963],\n",
       "       [0.3309848 , 0.6690152 ],\n",
       "       [0.28766816, 0.71233184],\n",
       "       [0.18221509, 0.81778491],\n",
       "       [0.1588646 , 0.8411354 ],\n",
       "       [0.08576573, 0.91423427],\n",
       "       [0.0672898 , 0.9327102 ],\n",
       "       [0.08081287, 0.91918713],\n",
       "       [0.14289405, 0.85710595],\n",
       "       [0.15898827, 0.84101173],\n",
       "       [0.13477898, 0.86522102],\n",
       "       [0.06171698, 0.93828302],\n",
       "       [0.03939734, 0.96060266],\n",
       "       [0.04048947, 0.95951053],\n",
       "       [0.06633067, 0.93366933],\n",
       "       [0.14856376, 0.85143624],\n",
       "       [0.17854535, 0.82145465],\n",
       "       [0.29689018, 0.70310982],\n",
       "       [0.3487178 , 0.6512822 ],\n",
       "       [0.35233047, 0.64766953],\n",
       "       [0.44512284, 0.55487716],\n",
       "       [0.48042824, 0.51957176],\n",
       "       [0.47071431, 0.52928569],\n",
       "       [0.41255071, 0.58744929],\n",
       "       [0.43667863, 0.56332137],\n",
       "       [0.41563036, 0.58436964],\n",
       "       [0.47775104, 0.52224896],\n",
       "       [0.69910808, 0.30089192],\n",
       "       [0.82213727, 0.17786273],\n",
       "       [0.89028479, 0.10971521],\n",
       "       [0.92761609, 0.07238391],\n",
       "       [0.94731422, 0.05268578],\n",
       "       [0.95633534, 0.04366466],\n",
       "       [0.95786514, 0.04213486],\n",
       "       [0.95244385, 0.04755615],\n",
       "       [0.93815701, 0.06184299],\n",
       "       [0.90995939, 0.09004061],\n",
       "       [0.85789339, 0.14210661],\n",
       "       [0.76357253, 0.23642747],\n",
       "       [0.59368863, 0.40631137],\n",
       "       [0.28824934, 0.71175066],\n",
       "       [0.18710684, 0.81289316],\n",
       "       [0.16641112, 0.83358888],\n",
       "       [0.09669949, 0.90330051],\n",
       "       [0.08167646, 0.91832354],\n",
       "       [0.1029462 , 0.8970538 ],\n",
       "       [0.18655371, 0.81344629],\n",
       "       [0.4348772 , 0.5651228 ],\n",
       "       [0.56799145, 0.43200855],\n",
       "       [0.63290403, 0.36709597],\n",
       "       [0.65253801, 0.34746199],\n",
       "       [0.63382687, 0.36617313],\n",
       "       [0.57016302, 0.42983698],\n",
       "       [0.43906438, 0.56093562],\n",
       "       [0.19423514, 0.80576486],\n",
       "       [0.11237615, 0.88762385],\n",
       "       [0.09325029, 0.90674971],\n",
       "       [0.11343774, 0.88656226],\n",
       "       [0.19765825, 0.80234175],\n",
       "       [0.22766955, 0.77233045],\n",
       "       [0.21406976, 0.78593024],\n",
       "       [0.15205628, 0.84794372],\n",
       "       [0.14965855, 0.85034145],\n",
       "       [0.10504206, 0.89495794],\n",
       "       [0.10664638, 0.89335362],\n",
       "       [0.07016876, 0.92983124],\n",
       "       [0.0699761 , 0.9300239 ],\n",
       "       [0.1058325 , 0.8941675 ],\n",
       "       [0.22164445, 0.77835555],\n",
       "       [0.55922484, 0.44077516],\n",
       "       [0.74713498, 0.25286502],\n",
       "       [0.85173292, 0.14826708],\n",
       "       [0.90995611, 0.09004389],\n",
       "       [0.94236531, 0.05763469],\n",
       "       [0.96040542, 0.03959458],\n",
       "       [0.97044709, 0.02955291],\n",
       "       [0.9760364 , 0.0239636 ],\n",
       "       [0.97914714, 0.02085286],\n",
       "       [0.98087783, 0.01912217],\n",
       "       [0.98183963, 0.01816037],\n",
       "       [0.98237221, 0.01762779],\n",
       "       [0.98266362, 0.01733638],\n",
       "       [0.98281679, 0.01718321],\n",
       "       [0.98288579, 0.01711421],\n",
       "       [0.98289501, 0.01710499],\n",
       "       [0.98284768, 0.01715232],\n",
       "       [0.9827271 , 0.0172729 ],\n",
       "       [0.98249069, 0.01750931],\n",
       "       [0.98205496, 0.01794504],\n",
       "       [0.98126604, 0.01873396],\n",
       "       [0.97984532, 0.02015468],\n",
       "       [0.97729112, 0.02270888],\n",
       "       [0.97270143, 0.02729857],\n",
       "       [0.96445547, 0.03554453],\n",
       "       [0.94964128, 0.05035872],\n",
       "       [0.92302743, 0.07697257],\n",
       "       [0.87521556, 0.12478444],\n",
       "       [0.89355477, 0.10644523],\n",
       "       [0.89353058, 0.10646942],\n",
       "       [0.87513445, 0.12486555],\n",
       "       [0.92288902, 0.07711098],\n",
       "       [0.94944802, 0.05055198],\n",
       "       [0.96419042, 0.03580958],\n",
       "       [0.97232232, 0.02767768],\n",
       "       [0.97671538, 0.02328462],\n",
       "       [0.97892097, 0.02107903],\n",
       "       [0.97971797, 0.02028203],\n",
       "       [0.97938781, 0.02061219],\n",
       "       [0.97781391, 0.02218609],\n",
       "       [0.97444047, 0.02555953],\n",
       "       [0.96807619, 0.03192381],\n",
       "       [0.95647362, 0.04352638],\n",
       "       [0.93553546, 0.06446454],\n",
       "       [0.89786765, 0.10213235],\n",
       "       [0.8301683 , 0.1698317 ],\n",
       "       [0.70853024, 0.29146976],\n",
       "       [0.48999855, 0.51000145],\n",
       "       [0.42929845, 0.57070155],\n",
       "       [0.45210207, 0.54789793],\n",
       "       [0.42994823, 0.57005177],\n",
       "       [0.49148324, 0.50851676],\n",
       "       [0.50427319, 0.49572681],\n",
       "       [0.47283469, 0.52716531],\n",
       "       [0.52528653, 0.47471347],\n",
       "       [0.72585651, 0.27414349],\n",
       "       [0.83731923, 0.16268077],\n",
       "       [0.89903633, 0.10096367],\n",
       "       [0.93280243, 0.06719757],\n",
       "       [0.95054159, 0.04945841],\n",
       "       [0.95851818, 0.04148182],\n",
       "       [0.95954901, 0.04045099],\n",
       "       [0.95399811, 0.04600189],\n",
       "       [0.93990527, 0.06009473],\n",
       "       [0.91229376, 0.08770624],\n",
       "       [0.94194393, 0.05805607],\n",
       "       [0.95787937, 0.04212063],\n",
       "       [0.96572747, 0.03427253],\n",
       "       [0.96825969, 0.03174031],\n",
       "       [0.96637024, 0.03362976],\n",
       "       [0.95939189, 0.04060811],\n",
       "       [0.94486033, 0.05513967],\n",
       "       [0.91764391, 0.08235609],\n",
       "       [0.94647328, 0.05352672],\n",
       "       [0.96246266, 0.03753734],\n",
       "       [0.97125851, 0.02874149],\n",
       "       [0.97596698, 0.02403302],\n",
       "       [0.97825078, 0.02174922],\n",
       "       [0.97891642, 0.02108358],\n",
       "       [0.97819897, 0.02180103],\n",
       "       [0.97584506, 0.02415494],\n",
       "       [0.97102343, 0.02897657],\n",
       "       [0.96203141, 0.03796859],\n",
       "       [0.94569355, 0.05430645],\n",
       "       [0.91624037, 0.08375963],\n",
       "       [0.86327083, 0.13672917],\n",
       "       [0.76807943, 0.23192057],\n",
       "       [0.76449782, 0.23550218],\n",
       "       [0.72819412, 0.27180588],\n",
       "       [0.77213637, 0.22786363],\n",
       "       [0.78262187, 0.21737813],\n",
       "       [0.76335345, 0.23664655],\n",
       "       [0.7075267 , 0.2924733 ],\n",
       "       [0.73430991, 0.26569009],\n",
       "       [0.72732813, 0.27267187],\n",
       "       [0.68411585, 0.31588415],\n",
       "       [0.72340355, 0.27659645],\n",
       "       [0.72683819, 0.27316181],\n",
       "       [0.69563269, 0.30436731],\n",
       "       [0.61876722, 0.38123278],\n",
       "       [0.46909771, 0.53090229],\n",
       "       [0.19377028, 0.80622972],\n",
       "       [0.10018234, 0.89981766],\n",
       "       [0.07373453, 0.92626547],\n",
       "       [0.08204125, 0.91795875],\n",
       "       [0.05585016, 0.94414984],\n",
       "       [0.05931813, 0.94068187],\n",
       "       [0.09669171, 0.90330829],\n",
       "       [0.21373522, 0.78626478],\n",
       "       [0.55376958, 0.44623042],\n",
       "       [0.74299621, 0.25700379],\n",
       "       [0.84823807, 0.15176193],\n",
       "       [0.90665999, 0.09334001],\n",
       "       [0.93889292, 0.06110708],\n",
       "       [0.95631952, 0.04368048],\n",
       "       [0.96509376, 0.03490624],\n",
       "       [0.96831415, 0.03168585],\n",
       "       [0.96711794, 0.03288206],\n",
       "       [0.9610827 , 0.0389173 ],\n",
       "       [0.94807717, 0.05192283],\n",
       "       [0.92350859, 0.07649141],\n",
       "       [0.8787009 , 0.1212991 ],\n",
       "       [0.79783083, 0.20216917],\n",
       "       [0.80106315, 0.19893685],\n",
       "       [0.77570011, 0.22429989],\n",
       "       [0.82813415, 0.17186585],\n",
       "       [0.84936921, 0.15063079],\n",
       "       [0.84690417, 0.15309583]])"
      ]
     },
     "execution_count": 15,
     "metadata": {},
     "output_type": "execute_result"
    }
   ],
   "source": [
    "#posterior probabilities\n",
    "posterior_prob = np.multiply(forw, back.T) / forw_prob\n",
    "posterior_prob"
   ]
  },
  {
   "cell_type": "code",
   "execution_count": 16,
   "metadata": {},
   "outputs": [
    {
     "data": {
      "image/png": "[encoded data removed]",
      "text/plain": [
       "<Figure size 576x432 with 1 Axes>"
      ]
     },
     "metadata": {
      "needs_background": "light"
     },
     "output_type": "display_data"
    }
   ],
   "source": [
    "#green area - wrong dice, white area - right dice\n",
    "fig, ax = plt.subplots(1, 1, figsize=(8, 6))\n",
    "for i in range(L):\n",
    "    if hidden_sequence[i] == 0:\n",
    "        plt.axvline(x = i, color = 'white')\n",
    "    else:\n",
    "        plt.axvline(x = i, color = 'green')\n",
    "plt.plot(range(L), posterior_prob[:,0], color = 'black', linewidth = 2)\n",
    "plt.title('Posterior probability with simulated path areas')\n",
    "plt.show()"
   ]
  },
  {
   "cell_type": "code",
   "execution_count": 17,
   "metadata": {},
   "outputs": [],
   "source": [
    "#initialization (assign random values)\n",
    "pi_new = np.array([6.0/10, 4.0/10])\n",
    "transition_matrix_new = np.array([\n",
    "    [0.8, 0.2],\n",
    "    [0.3, 0.7]]\n",
    ")\n",
    "emission_matrix_new = np.array([[0.2, 0.1, 0.1, 0.3, 0.1, 0.2],\n",
    "                  [0.05, 0.1, 0.05, 0.6, 0.1, 0.1]])"
   ]
  },
  {
   "cell_type": "code",
   "execution_count": 18,
   "metadata": {},
   "outputs": [],
   "source": [
    "dices = [0, 1]\n",
    "score = [0, 1, 2, 3, 4, 5]\n",
    "hidden_sequence_new, observed_sequence_new = np.zeros(L, dtype=np.int), np.zeros(L, dtype=np.int)\n",
    "hidden_sequence_new[0] = np.random.choice(dices, 1, p = pi)\n",
    "for i in range(1, L):\n",
    "    hidden_sequence_new[i] = np.random.choice(dices, 1, p = transition_matrix_new[int(hidden_sequence_new[i-1])])\n",
    "    observed_sequence_new[i] = np.random.choice(score, 1, p = emission_matrix_new[int(hidden_sequence_new[i-1])])"
   ]
  },
  {
   "cell_type": "code",
   "execution_count": 19,
   "metadata": {},
   "outputs": [
    {
     "data": {
      "text/plain": [
       "array([0, 0, 0, 1, 0, 0, 0, 0, 1, 1, 1, 1, 0, 0, 0, 0, 0, 0, 0, 1, 0, 0,\n",
       "       1, 1, 1, 1, 1, 0, 0, 0, 0, 0, 0, 1, 0, 0, 0, 0, 0, 1, 1, 0, 0, 0,\n",
       "       0, 1, 1, 1, 1, 1, 0, 0, 0, 0, 0, 0, 0, 0, 0, 1, 1, 0, 0, 0, 0, 0,\n",
       "       0, 0, 0, 1, 0, 0, 0, 0, 1, 1, 0, 1, 1, 1, 1, 1, 0, 0, 0, 0, 0, 0,\n",
       "       0, 0, 0, 0, 1, 1, 0, 1, 1, 1, 1, 1, 1, 1, 0, 0, 0, 0, 1, 1, 1, 1,\n",
       "       1, 1, 1, 1, 0, 1, 1, 1, 1, 1, 1, 1, 0, 0, 0, 0, 1, 0, 0, 0, 0, 0,\n",
       "       1, 1, 1, 1, 1, 1, 1, 1, 0, 0, 1, 0, 0, 1, 0, 0, 0, 0, 0, 0, 0, 1,\n",
       "       1, 1, 0, 1, 1, 0, 1, 1, 0, 1, 1, 1, 1, 1, 1, 0, 0, 0, 0, 0, 0, 0,\n",
       "       0, 0, 0, 0, 1, 0, 1, 1, 0, 0, 0, 0, 1, 1, 1, 1, 0, 0, 0, 1, 1, 0,\n",
       "       0, 0, 0, 0, 0, 0, 0, 0, 0, 0, 0, 0, 0, 0, 0, 1, 1, 0, 0, 1, 1, 1,\n",
       "       1, 1, 1, 1, 0, 0, 0, 1, 1, 1, 1, 1, 1, 1, 0, 0, 0, 0, 0, 0, 0, 0,\n",
       "       0, 1, 1, 1, 1, 0, 0, 0, 1, 0, 0, 0, 0, 0, 0, 1, 1, 1, 1, 0, 1, 0,\n",
       "       1, 1, 0, 0, 0, 1, 1, 1, 0, 1, 1, 1, 0, 0, 0, 0, 0, 0, 0, 0, 0, 0,\n",
       "       0, 0, 0, 1, 1, 1, 0, 1, 0, 0, 0, 0, 0, 1])"
      ]
     },
     "execution_count": 19,
     "metadata": {},
     "output_type": "execute_result"
    }
   ],
   "source": [
    "hidden_sequence_new"
   ]
  },
  {
   "cell_type": "code",
   "execution_count": 20,
   "metadata": {},
   "outputs": [
    {
     "data": {
      "text/plain": [
       "array([0, 0, 5, 1, 3, 2, 0, 2, 5, 3, 3, 3, 3, 0, 4, 1, 0, 0, 0, 4, 3, 1,\n",
       "       1, 1, 2, 0, 3, 3, 0, 4, 0, 3, 5, 0, 3, 4, 5, 4, 5, 0, 3, 1, 3, 2,\n",
       "       4, 1, 3, 4, 3, 3, 3, 3, 0, 4, 3, 3, 3, 5, 0, 1, 3, 3, 5, 1, 3, 0,\n",
       "       0, 5, 3, 1, 3, 5, 3, 3, 4, 5, 3, 0, 5, 3, 3, 3, 3, 1, 3, 0, 0, 0,\n",
       "       4, 0, 3, 5, 4, 4, 5, 0, 3, 3, 2, 4, 0, 3, 3, 4, 5, 3, 0, 3, 3, 0,\n",
       "       3, 4, 3, 5, 3, 5, 2, 1, 3, 3, 3, 1, 3, 3, 5, 5, 0, 3, 5, 5, 5, 3,\n",
       "       2, 4, 3, 3, 3, 3, 3, 3, 4, 1, 5, 5, 5, 3, 4, 1, 2, 3, 0, 3, 5, 5,\n",
       "       3, 4, 2, 0, 3, 5, 2, 1, 4, 5, 3, 3, 4, 3, 2, 3, 1, 5, 3, 3, 3, 3,\n",
       "       3, 5, 3, 1, 3, 5, 5, 3, 1, 1, 0, 3, 3, 5, 4, 3, 3, 2, 4, 0, 0, 3,\n",
       "       3, 3, 2, 4, 2, 2, 3, 4, 5, 3, 4, 5, 5, 0, 3, 3, 3, 3, 4, 5, 3, 3,\n",
       "       3, 3, 3, 1, 3, 0, 5, 0, 3, 4, 3, 3, 4, 2, 3, 0, 3, 3, 3, 3, 3, 1,\n",
       "       5, 5, 3, 3, 1, 5, 5, 0, 5, 3, 5, 3, 0, 5, 3, 1, 3, 3, 3, 3, 3, 3,\n",
       "       2, 3, 3, 3, 3, 3, 3, 2, 1, 0, 3, 3, 3, 1, 0, 5, 1, 4, 3, 0, 3, 0,\n",
       "       5, 0, 1, 3, 2, 3, 3, 4, 3, 2, 0, 3, 2, 1])"
      ]
     },
     "execution_count": 20,
     "metadata": {},
     "output_type": "execute_result"
    }
   ],
   "source": [
    "observed_sequence_new"
   ]
  },
  {
   "cell_type": "code",
   "execution_count": 21,
   "metadata": {},
   "outputs": [
    {
     "data": {
      "text/plain": [
       "3.07985755189216e-206"
      ]
     },
     "execution_count": 21,
     "metadata": {},
     "output_type": "execute_result"
    }
   ],
   "source": [
    "#forward algorithm for sequence x (observed_sequence_new)\n",
    "forw_new, forw_prob_new = forward(observed_sequence_new, pi_new, transition_matrix_new, emission_matrix_new)\n",
    "forw_prob_new"
   ]
  },
  {
   "cell_type": "code",
   "execution_count": 22,
   "metadata": {},
   "outputs": [
    {
     "data": {
      "text/plain": [
       "3.079857551892157e-206"
      ]
     },
     "execution_count": 22,
     "metadata": {},
     "output_type": "execute_result"
    }
   ],
   "source": [
    "#backward algorithm for sequence x (observed_sequence_new)\n",
    "back_new, back_prob_new = backward(observed_sequence_new, pi_new, transition_matrix_new, emission_matrix_new)\n",
    "back_prob_new"
   ]
  },
  {
   "cell_type": "code",
   "execution_count": 23,
   "metadata": {},
   "outputs": [],
   "source": [
    "#parameter for transition matrix\n",
    "def model_param_a(trans, emis):\n",
    "    forw_new, forw_prob_new = forward(observed_sequence_new, pi_new, trans, emis)\n",
    "    back_new = backward(observed_sequence_new, pi_new, trans, emis)[0]\n",
    "    A = np.zeros((M, M))\n",
    "    a = np.zeros((M, M))\n",
    "    for i in range(M):\n",
    "        for j in range(M):\n",
    "            for k in range(1, L - 1):\n",
    "                A[i, j] += forw_new[k, i] * trans[i, j] * emis[j, observed_sequence_new[k]] * back_new[j, k + 1]\n",
    "    A = A / forw_prob_new\n",
    "    for i in range(M):\n",
    "        for j in range(M):\n",
    "            a[i, j] = A[i, j] / np.sum(A[i])\n",
    "    return a"
   ]
  },
  {
   "cell_type": "code",
   "execution_count": 24,
   "metadata": {},
   "outputs": [],
   "source": [
    "a1 = model_param_a(transition_matrix_new, emission_matrix_new)"
   ]
  },
  {
   "cell_type": "code",
   "execution_count": 25,
   "metadata": {},
   "outputs": [],
   "source": [
    "#parameter for emission matrix\n",
    "def model_param_e(trans, emis):\n",
    "    E = np.zeros((M, K))\n",
    "    e = np.zeros((M, K))\n",
    "    for i in range(M):\n",
    "        for j in range(K):\n",
    "            for k in range(L):\n",
    "                if observed_sequence_new[k] == j + 1:\n",
    "                    E[i, j] += forw_new[k, i] * back_new[i, k]\n",
    "    for i in range(M):\n",
    "        for j in range(K):\n",
    "            e[i, j] = E[i, j] / np.sum(E[i])\n",
    "    return e"
   ]
  },
  {
   "cell_type": "code",
   "execution_count": 26,
   "metadata": {},
   "outputs": [],
   "source": [
    "e1 = model_param_e(transition_matrix_new, emission_matrix_new)"
   ]
  },
  {
   "cell_type": "code",
   "execution_count": 27,
   "metadata": {},
   "outputs": [
    {
     "name": "stdout",
     "output_type": "stream",
     "text": [
      "[[0.90784765 0.09215235]\n",
      " [0.04217106 0.95782894]]\n",
      "[[0.12292701 0.10626753 0.38499479 0.13590418 0.24990649 0.        ]\n",
      " [0.10045606 0.05156252 0.64553928 0.10185959 0.10058255 0.        ]]\n",
      "19\n"
     ]
    }
   ],
   "source": [
    "kkk1=0\n",
    "a0 = np.zeros((M, M))\n",
    "e0 = np.zeros((M, K))\n",
    "while np.any(abs(a1 - a0) > 0.001) or np.any(abs(e1 - e0) > 0.001):\n",
    "    a0, a1 = a1, model_param_a(a1, emission_matrix_new)\n",
    "    e0, e1 = e1, model_param_e(transition_matrix_new, e1)\n",
    "    kkk1+=1\n",
    "print(a1)\n",
    "print(e1)\n",
    "print(kkk1)"
   ]
  }
 ],
 "metadata": {
  "kernelspec": {
   "display_name": "Python 3",
   "language": "python",
   "name": "python3"
  },
  "language_info": {
   "codemirror_mode": {
    "name": "ipython",
    "version": 3
   },
   "file_extension": ".py",
   "mimetype": "text/x-python",
   "name": "python",
   "nbconvert_exporter": "python",
   "pygments_lexer": "ipython3",
   "version": "3.7.3"
  }
 },
 "nbformat": 4,
 "nbformat_minor": 2
}
