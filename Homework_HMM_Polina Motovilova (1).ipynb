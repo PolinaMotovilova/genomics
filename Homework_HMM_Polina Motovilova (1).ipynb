{
 "cells": [
  {
   "cell_type": "code",
   "execution_count": 1,
   "metadata": {},
   "outputs": [],
   "source": [
    "import numpy as np\n",
    "import random\n",
    "import matplotlib.pyplot as plt\n",
    "import math"
   ]
  },
  {
   "cell_type": "code",
   "execution_count": 2,
   "metadata": {},
   "outputs": [],
   "source": [
    "M = 2 #number of states\n",
    "K = 6 #number of possible emissions\n",
    "L = 300 #length of sequence\n",
    "#beginning distribution is solution for system of equations: \n",
    "#(x,y)transition_matrix = x\n",
    "#x + y = 1\n",
    "pi = np.array([2.0/3, 1.0/3])\n",
    "transition_matrix = np.array([\n",
    "    [0.95, 0.05],\n",
    "    [0.1, 0.9]]\n",
    ")\n",
    "emission_matrix = np.array([\n",
    "    [1.0/6, 1.0/6, 1.0/6, 1.0/6, 1.0/6, 1.0/6],\n",
    "    [1.0/10, 1.0/10, 1.0/10, 1.0/10, 1.0/10, 5.0/10]]\n",
    ")"
   ]
  },
  {
   "cell_type": "code",
   "execution_count": 3,
   "metadata": {},
   "outputs": [],
   "source": [
    "dices = [0, 1]\n",
    "score = [0, 1, 2, 3, 4, 5]\n",
    "hidden_sequence = np.zeros(L, dtype=np.int)\n",
    "observed_sequence = np.zeros(L, dtype=np.int)\n",
    "hidden_sequence[0] = np.random.choice(dices, 1, p = pi)\n",
    "for i in range(1, L):\n",
    "    hidden_sequence[i] = np.random.choice(dices, 1, p = transition_matrix[int(hidden_sequence[i-1])])\n",
    "    observed_sequence[i] = np.random.choice(score, 1, p = emission_matrix[int(hidden_sequence[i-1])])"
   ]
  },
  {
   "cell_type": "code",
   "execution_count": 4,
   "metadata": {},
   "outputs": [
    {
     "data": {
      "text/plain": [
       "array([1, 1, 1, 1, 1, 1, 1, 1, 1, 0, 1, 1, 1, 0, 0, 0, 0, 0, 0, 0, 0, 0,\n",
       "       0, 0, 0, 0, 0, 0, 0, 0, 0, 0, 0, 0, 0, 0, 0, 0, 0, 0, 0, 0, 0, 0,\n",
       "       0, 0, 0, 0, 0, 0, 0, 0, 1, 1, 0, 0, 0, 0, 1, 1, 1, 1, 1, 1, 1, 1,\n",
       "       1, 1, 1, 1, 1, 1, 1, 1, 1, 0, 0, 0, 0, 0, 0, 0, 0, 1, 1, 0, 0, 0,\n",
       "       0, 0, 0, 0, 0, 0, 0, 0, 0, 0, 0, 0, 0, 0, 0, 0, 0, 0, 0, 0, 0, 0,\n",
       "       0, 0, 0, 0, 0, 0, 0, 0, 0, 0, 0, 0, 0, 0, 0, 0, 0, 0, 0, 0, 0, 0,\n",
       "       0, 1, 1, 1, 1, 1, 1, 1, 1, 1, 1, 1, 1, 1, 1, 0, 0, 0, 0, 0, 0, 0,\n",
       "       0, 0, 0, 0, 0, 0, 0, 0, 0, 0, 0, 0, 0, 0, 0, 1, 1, 1, 1, 1, 1, 1,\n",
       "       1, 1, 1, 0, 0, 0, 1, 1, 1, 1, 1, 1, 1, 1, 1, 1, 1, 1, 1, 1, 1, 1,\n",
       "       1, 1, 1, 1, 1, 1, 1, 1, 1, 1, 1, 1, 1, 1, 1, 1, 1, 1, 1, 1, 1, 1,\n",
       "       1, 1, 1, 1, 1, 1, 1, 1, 1, 1, 1, 1, 1, 1, 1, 1, 1, 1, 1, 1, 1, 1,\n",
       "       0, 0, 0, 0, 0, 0, 0, 0, 0, 0, 0, 0, 0, 0, 0, 0, 0, 0, 0, 0, 0, 0,\n",
       "       0, 0, 0, 0, 0, 0, 0, 0, 0, 0, 0, 0, 0, 0, 0, 0, 0, 0, 0, 0, 0, 0,\n",
       "       0, 0, 0, 0, 0, 0, 0, 0, 0, 0, 0, 0, 0, 0])"
      ]
     },
     "execution_count": 4,
     "metadata": {},
     "output_type": "execute_result"
    }
   ],
   "source": [
    "hidden_sequence"
   ]
  },
  {
   "cell_type": "code",
   "execution_count": 5,
   "metadata": {},
   "outputs": [
    {
     "data": {
      "text/plain": [
       "array([0, 5, 5, 5, 4, 5, 4, 4, 5, 5, 4, 4, 3, 4, 0, 0, 2, 3, 2, 2, 1, 1,\n",
       "       2, 4, 2, 0, 3, 4, 1, 1, 5, 1, 1, 3, 3, 2, 0, 2, 2, 5, 4, 1, 1, 1,\n",
       "       5, 2, 0, 5, 5, 2, 4, 2, 4, 0, 5, 0, 4, 1, 2, 2, 0, 5, 5, 5, 5, 1,\n",
       "       5, 5, 5, 3, 4, 2, 5, 5, 5, 5, 4, 1, 3, 4, 1, 1, 4, 0, 5, 5, 2, 3,\n",
       "       4, 0, 1, 3, 5, 4, 1, 2, 0, 3, 5, 1, 5, 4, 3, 4, 2, 4, 3, 2, 1, 0,\n",
       "       5, 3, 3, 1, 3, 2, 4, 1, 4, 3, 2, 0, 2, 1, 4, 2, 0, 3, 3, 5, 1, 0,\n",
       "       1, 5, 0, 5, 4, 5, 5, 5, 4, 5, 4, 5, 5, 5, 5, 5, 3, 5, 5, 0, 2, 5,\n",
       "       0, 1, 1, 3, 3, 2, 5, 4, 1, 2, 4, 4, 4, 0, 5, 3, 5, 3, 3, 5, 5, 5,\n",
       "       4, 4, 5, 3, 2, 1, 4, 5, 5, 0, 3, 0, 4, 5, 3, 5, 5, 2, 5, 5, 1, 1,\n",
       "       5, 5, 4, 5, 5, 1, 2, 1, 5, 5, 5, 1, 5, 4, 5, 5, 0, 2, 3, 5, 5, 5,\n",
       "       5, 5, 5, 5, 0, 5, 2, 5, 3, 5, 5, 5, 1, 5, 5, 5, 5, 1, 1, 5, 4, 2,\n",
       "       1, 2, 2, 4, 5, 2, 5, 0, 3, 3, 3, 0, 1, 2, 3, 5, 4, 5, 0, 2, 0, 4,\n",
       "       4, 2, 4, 0, 1, 2, 0, 0, 0, 4, 2, 5, 2, 4, 4, 5, 4, 2, 2, 4, 1, 5,\n",
       "       4, 4, 5, 1, 0, 2, 2, 1, 5, 3, 1, 2, 4, 2])"
      ]
     },
     "execution_count": 5,
     "metadata": {},
     "output_type": "execute_result"
    }
   ],
   "source": [
    "observed_sequence"
   ]
  },
  {
   "cell_type": "code",
   "execution_count": 6,
   "metadata": {},
   "outputs": [
    {
     "name": "stdout",
     "output_type": "stream",
     "text": [
      "[[-0.02227639 -1.30103   ]\n",
      " [-1.         -0.04575749]]\n"
     ]
    }
   ],
   "source": [
    "#transition matrix log transformation\n",
    "transition_matrix_log10 = np.zeros((M, M))\n",
    "for i in range(M):\n",
    "    for j in range(M):\n",
    "        transition_matrix_log10[i, j] = math.log(transition_matrix[i, j], 10)\n",
    "print(transition_matrix_log10)"
   ]
  },
  {
   "cell_type": "code",
   "execution_count": 7,
   "metadata": {},
   "outputs": [
    {
     "name": "stdout",
     "output_type": "stream",
     "text": [
      "[[-0.77815125 -0.77815125 -0.77815125 -0.77815125 -0.77815125 -0.77815125]\n",
      " [-1.         -1.         -1.         -1.         -1.         -0.30103   ]]\n"
     ]
    }
   ],
   "source": [
    "#emission matrix log transformation\n",
    "emission_matrix_log10 = np.zeros((M, K))\n",
    "for i in range(M):\n",
    "    for j in range(K):\n",
    "        emission_matrix_log10[i, j] = math.log(emission_matrix[i, j], 10)\n",
    "print(emission_matrix_log10)"
   ]
  },
  {
   "cell_type": "code",
   "execution_count": 8,
   "metadata": {},
   "outputs": [],
   "source": [
    "def viterbi(obs, pi, trans, emis):\n",
    "    N = trans.shape[0]\n",
    "    delta = np.zeros((L, N))\n",
    "    psi = np.zeros((L, N))\n",
    "    delta[0] = pi*emis[:,obs[0]]\n",
    "    for l in range(1, L):\n",
    "        for j in range(N):\n",
    "            delta[l,j] = np.max(delta[l-1] * trans[:,j]) * emis[j, obs[l]]\n",
    "            psi[l,j] = np.argmax(delta[l-1] * trans[:,j])\n",
    "            #delta[l,j] = np.max(delta[l-1] + trans[:,j]) + emis[j, obs[l]]\n",
    "            #psi[l,j] = np.argmax(delta[l-1] + trans[:,j])\n",
    "\n",
    "    states = np.zeros(L, dtype=np.int32)\n",
    "    states[L-1] = np.argmax(delta[L-1])\n",
    "    for l in range(L-2, -1, -1):\n",
    "        states[l] = psi[l+1, states[l+1]]\n",
    "    return states"
   ]
  },
  {
   "cell_type": "code",
   "execution_count": 9,
   "metadata": {},
   "outputs": [
    {
     "data": {
      "text/plain": [
       "array([1, 1, 1, 1, 1, 1, 1, 1, 1, 1, 0, 0, 0, 0, 0, 0, 0, 0, 0, 0, 0, 0,\n",
       "       0, 0, 0, 0, 0, 0, 0, 0, 0, 0, 0, 0, 0, 0, 0, 0, 0, 0, 0, 0, 0, 0,\n",
       "       0, 0, 0, 0, 0, 0, 0, 0, 0, 0, 0, 0, 0, 0, 0, 0, 0, 1, 1, 1, 1, 1,\n",
       "       1, 1, 1, 1, 1, 1, 1, 1, 1, 1, 0, 0, 0, 0, 0, 0, 0, 0, 0, 0, 0, 0,\n",
       "       0, 0, 0, 0, 0, 0, 0, 0, 0, 0, 0, 0, 0, 0, 0, 0, 0, 0, 0, 0, 0, 0,\n",
       "       0, 0, 0, 0, 0, 0, 0, 0, 0, 0, 0, 0, 0, 0, 0, 0, 0, 0, 0, 0, 0, 0,\n",
       "       0, 1, 1, 1, 1, 1, 1, 1, 1, 1, 1, 1, 1, 1, 1, 1, 1, 1, 1, 0, 0, 0,\n",
       "       0, 0, 0, 0, 0, 0, 0, 0, 0, 0, 0, 0, 0, 0, 1, 1, 1, 1, 1, 1, 1, 1,\n",
       "       1, 1, 1, 1, 1, 1, 1, 1, 1, 1, 1, 1, 1, 1, 1, 1, 1, 1, 1, 1, 1, 1,\n",
       "       1, 1, 1, 1, 1, 1, 1, 1, 1, 1, 1, 1, 1, 1, 1, 1, 1, 1, 1, 1, 1, 1,\n",
       "       1, 1, 1, 1, 1, 1, 1, 1, 1, 1, 1, 1, 1, 1, 1, 1, 1, 0, 0, 0, 0, 0,\n",
       "       0, 0, 0, 0, 0, 0, 0, 0, 0, 0, 0, 0, 0, 0, 0, 0, 0, 0, 0, 0, 0, 0,\n",
       "       0, 0, 0, 0, 0, 0, 0, 0, 0, 0, 0, 0, 0, 0, 0, 0, 0, 0, 0, 0, 0, 0,\n",
       "       0, 0, 0, 0, 0, 0, 0, 0, 0, 0, 0, 0, 0, 0])"
      ]
     },
     "execution_count": 9,
     "metadata": {},
     "output_type": "execute_result"
    }
   ],
   "source": [
    "viterbi_path=viterbi(observed_sequence, pi, transition_matrix, emission_matrix)\n",
    "viterbi_path"
   ]
  },
  {
   "cell_type": "code",
   "execution_count": 10,
   "metadata": {},
   "outputs": [
    {
     "data": {
      "text/plain": [
       "array([0, 1, 0, 1, 0, 1, 0, 1, 0, 1, 0, 1, 0, 1, 0, 1, 0, 1, 0, 1, 0, 1,\n",
       "       0, 1, 0, 1, 0, 1, 0, 1, 0, 1, 0, 1, 0, 1, 0, 1, 0, 1, 0, 1, 0, 1,\n",
       "       0, 1, 0, 1, 0, 1, 0, 1, 0, 1, 0, 1, 0, 1, 0, 1, 0, 1, 0, 1, 0, 1,\n",
       "       0, 1, 0, 1, 0, 1, 0, 1, 0, 1, 0, 1, 0, 1, 0, 1, 0, 1, 0, 1, 0, 1,\n",
       "       0, 1, 0, 1, 0, 1, 0, 1, 0, 1, 0, 1, 0, 1, 0, 1, 0, 1, 0, 1, 0, 1,\n",
       "       0, 1, 1, 0, 1, 0, 1, 0, 1, 0, 1, 0, 1, 0, 1, 0, 1, 0, 1, 0, 1, 0,\n",
       "       1, 0, 1, 0, 1, 0, 1, 0, 1, 0, 1, 0, 1, 0, 1, 0, 1, 0, 1, 0, 1, 0,\n",
       "       1, 0, 1, 0, 1, 0, 1, 0, 1, 0, 1, 0, 1, 0, 1, 0, 1, 0, 1, 0, 1, 0,\n",
       "       1, 0, 1, 0, 1, 0, 1, 0, 1, 0, 1, 0, 1, 0, 1, 0, 1, 0, 1, 0, 1, 0,\n",
       "       1, 0, 1, 0, 1, 0, 1, 0, 1, 0, 1, 0, 1, 0, 1, 0, 1, 0, 1, 0, 1, 0,\n",
       "       1, 0, 1, 0, 1, 0, 1, 0, 1, 0, 1, 0, 1, 0, 1, 0, 1, 0, 1, 0, 1, 0,\n",
       "       1, 0, 1, 0, 1, 0, 1, 0, 1, 0, 1, 0, 1, 0, 1, 0, 1, 0, 1, 0, 1, 0,\n",
       "       1, 0, 1, 0, 1, 0, 1, 0, 1, 0, 1, 0, 1, 0, 1, 0, 1, 0, 1, 0, 1, 0,\n",
       "       1, 1, 0, 1, 0, 1, 0, 1, 0, 1, 0, 1, 0, 1])"
      ]
     },
     "execution_count": 10,
     "metadata": {},
     "output_type": "execute_result"
    }
   ],
   "source": [
    "viterbi_path_log10=viterbi(observed_sequence, pi, transition_matrix_log10, emission_matrix_log10)\n",
    "viterbi_path_log10"
   ]
  },
  {
   "cell_type": "code",
   "execution_count": 11,
   "metadata": {},
   "outputs": [
    {
     "data": {
      "image/png": "[encoded data removed]",
      "text/plain": [
       "<Figure size 576x432 with 1 Axes>"
      ]
     },
     "metadata": {
      "needs_background": "light"
     },
     "output_type": "display_data"
    }
   ],
   "source": [
    "x = np.linspace(0, L, L)\n",
    "fig, ax = plt.subplots(1,1,figsize=(8, 6))\n",
    "ax.plot(x, hidden_sequence, ls ='-', color = 'blue')\n",
    "ax.plot(x, viterbi_path, ls ='--', color = 'black')\n",
    "#ax.plot(x, viterbi_path_log10, ls ='--', color = 'orange')\n",
    "plt.title('Simulated path vs Viterbi most likely path')\n",
    "plt.grid()\n",
    "plt.show()"
   ]
  },
  {
   "cell_type": "code",
   "execution_count": 12,
   "metadata": {},
   "outputs": [],
   "source": [
    "#forward algorithm\n",
    "def forward(obs, pi, trans, emis):\n",
    "    forw = np.zeros((L, M))\n",
    "    forw[0] = pi*emis[:,obs[0]]\n",
    "    for l in range(1, L):\n",
    "        forw[l] = np.dot(forw[l-1],trans) * emis[:, obs[l]]\n",
    "    forw_prob = forw[-1].sum()\n",
    "    return forw, forw_prob"
   ]
  },
  {
   "cell_type": "code",
   "execution_count": 13,
   "metadata": {},
   "outputs": [
    {
     "data": {
      "text/plain": [
       "6.709713239988163e-221"
      ]
     },
     "execution_count": 13,
     "metadata": {},
     "output_type": "execute_result"
    }
   ],
   "source": [
    "forw, forw_prob = forward(observed_sequence, pi, transition_matrix, emission_matrix)\n",
    "forw_prob"
   ]
  },
  {
   "cell_type": "code",
   "execution_count": 14,
   "metadata": {},
   "outputs": [],
   "source": [
    "#backward algorithm\n",
    "def backward(obs, pi, trans, emis):\n",
    "    back = np.zeros((M,L))\n",
    "    back[:,-1:] = 1\n",
    "    for l in reversed(range(L-1)):\n",
    "        for m in range(M):\n",
    "            back[m,l] = np.sum(back[:,l+1] * trans[m,:] * emis[:,obs[l+1]])\n",
    "    back_prob = np.sum(pi * emis[:, obs[0]] * back[:,0])\n",
    "    return back, back_prob"
   ]
  },
  {
   "cell_type": "code",
   "execution_count": 15,
   "metadata": {},
   "outputs": [
    {
     "data": {
      "text/plain": [
       "6.709713239988164e-221"
      ]
     },
     "execution_count": 15,
     "metadata": {},
     "output_type": "execute_result"
    }
   ],
   "source": [
    "back, back_prob = backward(observed_sequence, pi, transition_matrix, emission_matrix)\n",
    "back_prob"
   ]
  },
  {
   "cell_type": "code",
   "execution_count": 16,
   "metadata": {},
   "outputs": [
    {
     "data": {
      "text/plain": [
       "array([[0.27966563, 0.72033437],\n",
       "       [0.15177703, 0.84822297],\n",
       "       [0.11503461, 0.88496539],\n",
       "       [0.12444695, 0.87555305],\n",
       "       [0.19153953, 0.80846047],\n",
       "       [0.20954926, 0.79045074],\n",
       "       [0.30948594, 0.69051406],\n",
       "       [0.34899594, 0.65100406],\n",
       "       [0.3420317 , 0.6579683 ],\n",
       "       [0.41761683, 0.58238317],\n",
       "       [0.66830608, 0.33169392],\n",
       "       [0.807849  , 0.192151  ],\n",
       "       [0.88552339, 0.11447661],\n",
       "       [0.92875899, 0.07124101],\n",
       "       [0.95282389, 0.04717611],\n",
       "       [0.96621631, 0.03378369],\n",
       "       [0.97366559, 0.02633441],\n",
       "       [0.97780237, 0.02219763],\n",
       "       [0.9800875 , 0.0199125 ],\n",
       "       [0.98132794, 0.01867206],\n",
       "       [0.98196173, 0.01803827],\n",
       "       [0.98221269, 0.01778731],\n",
       "       [0.98216945, 0.01783055],\n",
       "       [0.98181673, 0.01818327],\n",
       "       [0.98102998, 0.01897002],\n",
       "       [0.97953136, 0.02046864],\n",
       "       [0.97679165, 0.02320835],\n",
       "       [0.97184337, 0.02815663],\n",
       "       [0.96293909, 0.03706091],\n",
       "       [0.94693437, 0.05306563],\n",
       "       [0.91817737, 0.08182263],\n",
       "       [0.94534202, 0.05465798],\n",
       "       [0.95990752, 0.04009248],\n",
       "       [0.9670175 , 0.0329825 ],\n",
       "       [0.96918277, 0.03081723],\n",
       "       [0.96716794, 0.03283206],\n",
       "       [0.96026151, 0.03973849],\n",
       "       [0.94602458, 0.05397542],\n",
       "       [0.91942953, 0.08057047],\n",
       "       [0.87108468, 0.12891532],\n",
       "       [0.88959149, 0.11040851],\n",
       "       [0.88921825, 0.11078175],\n",
       "       [0.86983316, 0.13016684],\n",
       "       [0.82459061, 0.17540939],\n",
       "       [0.73751378, 0.26248622],\n",
       "       [0.74030724, 0.25969276],\n",
       "       [0.70937262, 0.29062738],\n",
       "       [0.63378573, 0.36621427],\n",
       "       [0.64758182, 0.35241818],\n",
       "       [0.76765433, 0.23234567],\n",
       "       [0.83127038, 0.16872962],\n",
       "       [0.86089516, 0.13910484],\n",
       "       [0.8669903 , 0.1330097 ],\n",
       "       [0.85170821, 0.14829179],\n",
       "       [0.80965222, 0.19034778],\n",
       "       [0.84107172, 0.15892828],\n",
       "       [0.84674032, 0.15325968],\n",
       "       [0.8286598 , 0.1713402 ],\n",
       "       [0.78044526, 0.21955474],\n",
       "       [0.68507035, 0.31492965],\n",
       "       [0.50885464, 0.49114536],\n",
       "       [0.18956979, 0.81043021],\n",
       "       [0.07924149, 0.92075851],\n",
       "       [0.04277166, 0.95722834],\n",
       "       [0.03550262, 0.96449738],\n",
       "       [0.04853337, 0.95146663],\n",
       "       [0.03199238, 0.96800762],\n",
       "       [0.03475108, 0.96524892],\n",
       "       [0.06018749, 0.93981251],\n",
       "       [0.13944878, 0.86055122],\n",
       "       [0.16772579, 0.83227421],\n",
       "       [0.15500419, 0.84499581],\n",
       "       [0.09679151, 0.90320849],\n",
       "       [0.08821682, 0.91178318],\n",
       "       [0.11878032, 0.88121968],\n",
       "       [0.22590733, 0.77409267],\n",
       "       [0.5407759 , 0.4592241 ],\n",
       "       [0.71503703, 0.28496297],\n",
       "       [0.81022882, 0.18977118],\n",
       "       [0.85996703, 0.14003297],\n",
       "       [0.88181609, 0.11818391],\n",
       "       [0.88349169, 0.11650831],\n",
       "       [0.86558557, 0.13441443],\n",
       "       [0.82177439, 0.17822561],\n",
       "       [0.73658682, 0.26341318],\n",
       "       [0.74061434, 0.25938566],\n",
       "       [0.83878872, 0.16121128],\n",
       "       [0.89214066, 0.10785934],\n",
       "       [0.91951073, 0.08048927],\n",
       "       [0.93056431, 0.06943569],\n",
       "       [0.92920483, 0.07079517],\n",
       "       [0.91495222, 0.08504778],\n",
       "       [0.88277335, 0.11722665],\n",
       "       [0.91368118, 0.08631882],\n",
       "       [0.92678499, 0.07321501],\n",
       "       [0.92671224, 0.07328776],\n",
       "       [0.91343721, 0.08656279],\n",
       "       [0.88227201, 0.11772799],\n",
       "       [0.82221105, 0.17778895],\n",
       "       [0.8374938 , 0.1625062 ],\n",
       "       [0.82818746, 0.17181254],\n",
       "       [0.89592759, 0.10407241],\n",
       "       [0.93345859, 0.06654141],\n",
       "       [0.95403406, 0.04596594],\n",
       "       [0.96491996, 0.03508004],\n",
       "       [0.96996051, 0.03003949],\n",
       "       [0.97093571, 0.02906429],\n",
       "       [0.96818994, 0.03181006],\n",
       "       [0.96075356, 0.03924644],\n",
       "       [0.94600052, 0.05399948],\n",
       "       [0.91872097, 0.08127903],\n",
       "       [0.94723363, 0.05276637],\n",
       "       [0.96310118, 0.03689882],\n",
       "       [0.97192704, 0.02807296],\n",
       "       [0.97682795, 0.02317205],\n",
       "       [0.97953461, 0.02046539],\n",
       "       [0.98100284, 0.01899716],\n",
       "       [0.98175113, 0.01824887],\n",
       "       [0.98204373, 0.01795627],\n",
       "       [0.98198396, 0.01801604],\n",
       "       [0.98155072, 0.01844928],\n",
       "       [0.98059102, 0.01940898],\n",
       "       [0.97876595, 0.02123405],\n",
       "       [0.975431  , 0.024569  ],\n",
       "       [0.96940849, 0.03059151],\n",
       "       [0.95857163, 0.04142837],\n",
       "       [0.93909354, 0.06090646],\n",
       "       [0.90409577, 0.09590423],\n",
       "       [0.84121931, 0.15878069],\n",
       "       [0.72826012, 0.27173988],\n",
       "       [0.71643925, 0.28356075],\n",
       "       [0.66653674, 0.33346326],\n",
       "       [0.56093014, 0.43906986],\n",
       "       [0.36232584, 0.63767416],\n",
       "       [0.30671654, 0.69328346],\n",
       "       [0.18255924, 0.81744076],\n",
       "       [0.15017921, 0.84982079],\n",
       "       [0.06430659, 0.93569341],\n",
       "       [0.03651958, 0.96348042],\n",
       "       [0.0327927 , 0.9672073 ],\n",
       "       [0.04856235, 0.95143765],\n",
       "       [0.03477238, 0.96522762],\n",
       "       [0.04104297, 0.95895703],\n",
       "       [0.01847713, 0.98152287],\n",
       "       [0.01132914, 0.98867086],\n",
       "       [0.01084621, 0.98915379],\n",
       "       [0.01643699, 0.98356301],\n",
       "       [0.03494744, 0.96505256],\n",
       "       [0.08904379, 0.91095621],\n",
       "       [0.10228674, 0.89771326],\n",
       "       [0.17030141, 0.82969859],\n",
       "       [0.3763724 , 0.6236276 ],\n",
       "       [0.48339534, 0.51660466],\n",
       "       [0.52916402, 0.47083598],\n",
       "       [0.714675  , 0.285325  ],\n",
       "       [0.81668775, 0.18331225],\n",
       "       [0.87122677, 0.12877323],\n",
       "       [0.89755182, 0.10244818],\n",
       "       [0.90495926, 0.09504074],\n",
       "       [0.89606492, 0.10393508],\n",
       "       [0.86772788, 0.13227212],\n",
       "       [0.90516074, 0.09483926],\n",
       "       [0.92227609, 0.07772391],\n",
       "       [0.925118  , 0.074882  ],\n",
       "       [0.91469003, 0.08530997],\n",
       "       [0.88730971, 0.11269029],\n",
       "       [0.833308  , 0.166692  ],\n",
       "       [0.73361491, 0.26638509],\n",
       "       [0.55302507, 0.44697493],\n",
       "       [0.50972638, 0.49027362],\n",
       "       [0.40706406, 0.59293594],\n",
       "       [0.40010676, 0.59989324],\n",
       "       [0.34432881, 0.65567119],\n",
       "       [0.22003293, 0.77996707],\n",
       "       [0.19056339, 0.80943661],\n",
       "       [0.21983445, 0.78016555],\n",
       "       [0.34368879, 0.65631121],\n",
       "       [0.39917595, 0.60082405],\n",
       "       [0.4058905 , 0.5941095 ],\n",
       "       [0.50806245, 0.49193755],\n",
       "       [0.55098933, 0.44901067],\n",
       "       [0.54983021, 0.45016979],\n",
       "       [0.50417577, 0.49582423],\n",
       "       [0.39790373, 0.60209627],\n",
       "       [0.38846547, 0.61153453],\n",
       "       [0.46430376, 0.53569624],\n",
       "       [0.48759999, 0.51240001],\n",
       "       [0.46658095, 0.53341905],\n",
       "       [0.39382401, 0.60617599],\n",
       "       [0.24363601, 0.75636399],\n",
       "       [0.2036834 , 0.7963166 ],\n",
       "       [0.10458703, 0.89541297],\n",
       "       [0.07610927, 0.92389073],\n",
       "       [0.0833788 , 0.9166212 ],\n",
       "       [0.0558707 , 0.9441293 ],\n",
       "       [0.05834367, 0.94165633],\n",
       "       [0.09382591, 0.90617409],\n",
       "       [0.09241458, 0.90758542],\n",
       "       [0.05361129, 0.94638871],\n",
       "       [0.04779504, 0.95220496],\n",
       "       [0.06784375, 0.93215625],\n",
       "       [0.055477  , 0.944523  ],\n",
       "       [0.0711639 , 0.9288361 ],\n",
       "       [0.13411323, 0.86588677],\n",
       "       [0.15122508, 0.84877492],\n",
       "       [0.12854229, 0.87145771],\n",
       "       [0.05805473, 0.94194527],\n",
       "       [0.03632905, 0.96367095],\n",
       "       [0.03676196, 0.96323804],\n",
       "       [0.05988356, 0.94011644],\n",
       "       [0.05137098, 0.94862902],\n",
       "       [0.06970938, 0.93029062],\n",
       "       [0.05546859, 0.94453141],\n",
       "       [0.06924624, 0.93075376],\n",
       "       [0.12791318, 0.87208682],\n",
       "       [0.14221252, 0.85778748],\n",
       "       [0.11719386, 0.88280614],\n",
       "       [0.04402221, 0.95597779],\n",
       "       [0.01862505, 0.98137495],\n",
       "       [0.00990334, 0.99009666],\n",
       "       [0.00717724, 0.99282276],\n",
       "       [0.00710862, 0.99289138],\n",
       "       [0.00961344, 0.99038656],\n",
       "       [0.0177589 , 0.9822411 ],\n",
       "       [0.04151919, 0.95848081],\n",
       "       [0.0362052 , 0.9637948 ],\n",
       "       [0.05176161, 0.94823839],\n",
       "       [0.03725865, 0.96274135],\n",
       "       [0.04392624, 0.95607376],\n",
       "       [0.02128804, 0.97871196],\n",
       "       [0.01527017, 0.98472983],\n",
       "       [0.01850369, 0.98149631],\n",
       "       [0.03494805, 0.96505195],\n",
       "       [0.02420119, 0.97579881],\n",
       "       [0.02828846, 0.97171154],\n",
       "       [0.05221479, 0.94778521],\n",
       "       [0.12527818, 0.87472182],\n",
       "       [0.33694547, 0.66305453],\n",
       "       [0.44696068, 0.55303932],\n",
       "       [0.49417425, 0.50582575],\n",
       "       [0.68172484, 0.31827516],\n",
       "       [0.78389469, 0.21610531],\n",
       "       [0.83676379, 0.16323621],\n",
       "       [0.8590022 , 0.1409978 ],\n",
       "       [0.85846311, 0.14153689],\n",
       "       [0.83495615, 0.16504385],\n",
       "       [0.78018015, 0.21981985],\n",
       "       [0.80325208, 0.19674792],\n",
       "       [0.79810419, 0.20189581],\n",
       "       [0.87591103, 0.12408897],\n",
       "       [0.91850986, 0.08149014],\n",
       "       [0.94094394, 0.05905606],\n",
       "       [0.95113556, 0.04886444],\n",
       "       [0.95268376, 0.04731624],\n",
       "       [0.94613528, 0.05386472],\n",
       "       [0.9291776 , 0.0708224 ],\n",
       "       [0.89582234, 0.10417766],\n",
       "       [0.8342905 , 0.1657095 ],\n",
       "       [0.8473147 , 0.1526853 ],\n",
       "       [0.83682769, 0.16317231],\n",
       "       [0.90161959, 0.09838041],\n",
       "       [0.93767735, 0.06232265],\n",
       "       [0.95773431, 0.04226569],\n",
       "       [0.96887333, 0.03112667],\n",
       "       [0.97502802, 0.02497198],\n",
       "       [0.97837182, 0.02162818],\n",
       "       [0.98008554, 0.01991446],\n",
       "       [0.98077438, 0.01922562],\n",
       "       [0.98068159, 0.01931841],\n",
       "       [0.9797744 , 0.0202256 ],\n",
       "       [0.97773244, 0.02226756],\n",
       "       [0.97383462, 0.02616538],\n",
       "       [0.96670447, 0.03329553],\n",
       "       [0.95382409, 0.04617591],\n",
       "       [0.93064492, 0.06935508],\n",
       "       [0.88898153, 0.11101847],\n",
       "       [0.91018422, 0.08981578],\n",
       "       [0.91487056, 0.08512944],\n",
       "       [0.90469548, 0.09530452],\n",
       "       [0.87606576, 0.12393424],\n",
       "       [0.91177946, 0.08822054],\n",
       "       [0.92835721, 0.07164279],\n",
       "       [0.93165323, 0.06834677],\n",
       "       [0.92283146, 0.07716854],\n",
       "       [0.89877661, 0.10122339],\n",
       "       [0.85099402, 0.14900598],\n",
       "       [0.87262905, 0.12737095],\n",
       "       [0.87305114, 0.12694886],\n",
       "       [0.85240937, 0.14759063],\n",
       "       [0.90119185, 0.09880815],\n",
       "       [0.92620396, 0.07379604],\n",
       "       [0.93627839, 0.06372161],\n",
       "       [0.9349728 , 0.0650272 ],\n",
       "       [0.92182614, 0.07817386],\n",
       "       [0.89219584, 0.10780416],\n",
       "       [0.92393754, 0.07606246],\n",
       "       [0.93899253, 0.06100747],\n",
       "       [0.94267727, 0.05732273],\n",
       "       [0.936293  , 0.063707  ],\n",
       "       [0.91758519, 0.08241481]])"
      ]
     },
     "execution_count": 16,
     "metadata": {},
     "output_type": "execute_result"
    }
   ],
   "source": [
    "#posterior probabilities\n",
    "posterior_prob = np.multiply(forw, back.T) / forw_prob\n",
    "posterior_prob"
   ]
  },
  {
   "cell_type": "code",
   "execution_count": 17,
   "metadata": {},
   "outputs": [
    {
     "data": {
      "image/png": "[encoded data removed]",
      "text/plain": [
       "<Figure size 576x432 with 1 Axes>"
      ]
     },
     "metadata": {
      "needs_background": "light"
     },
     "output_type": "display_data"
    }
   ],
   "source": [
    "#green area - wrong dice, white area - right dice\n",
    "fig, ax = plt.subplots(1, 1, figsize=(8, 6))\n",
    "for i in range(L):\n",
    "    if hidden_sequence[i] == 0:\n",
    "        plt.axvline(x = i, color = 'white')\n",
    "    else:\n",
    "        plt.axvline(x = i, color = 'green')\n",
    "plt.plot(range(L), posterior_prob[:,0], color = 'black', linewidth = 2)\n",
    "plt.title('Posterior probability with simulated path areas')\n",
    "plt.show()"
   ]
  },
  {
   "cell_type": "code",
   "execution_count": 18,
   "metadata": {},
   "outputs": [],
   "source": [
    "#initialization (assign random values)\n",
    "pi_new = np.array([6.0/10, 4.0/10])\n",
    "transition_matrix_new = np.array([\n",
    "    [0.8, 0.2],\n",
    "    [0.3, 0.7]]\n",
    ")\n",
    "emission_matrix_new = np.array([[0.2, 0.1, 0.1, 0.3, 0.1, 0.2],\n",
    "                  [0.05, 0.1, 0.05, 0.6, 0.1, 0.1]])"
   ]
  },
  {
   "cell_type": "code",
   "execution_count": 19,
   "metadata": {},
   "outputs": [],
   "source": [
    "dices = [0, 1]\n",
    "score = [0, 1, 2, 3, 4, 5]\n",
    "hidden_sequence_new, observed_sequence_new = np.zeros(L, dtype=np.int), np.zeros(L, dtype=np.int)\n",
    "hidden_sequence_new[0] = np.random.choice(dices, 1, p = pi)\n",
    "for i in range(1, L):\n",
    "    hidden_sequence_new[i] = np.random.choice(dices, 1, p = transition_matrix_new[int(hidden_sequence_new[i-1])])\n",
    "    observed_sequence_new[i] = np.random.choice(score, 1, p = emission_matrix_new[int(hidden_sequence_new[i-1])])"
   ]
  },
  {
   "cell_type": "code",
   "execution_count": 20,
   "metadata": {},
   "outputs": [
    {
     "data": {
      "text/plain": [
       "array([1, 0, 0, 0, 0, 1, 1, 0, 1, 1, 1, 1, 1, 0, 0, 0, 0, 0, 0, 0, 1, 1,\n",
       "       1, 1, 1, 0, 0, 0, 0, 1, 1, 1, 1, 1, 0, 1, 1, 1, 1, 1, 1, 0, 0, 0,\n",
       "       0, 0, 1, 1, 0, 1, 1, 1, 0, 0, 0, 0, 0, 0, 0, 0, 1, 1, 0, 0, 1, 1,\n",
       "       1, 1, 0, 0, 0, 0, 1, 1, 1, 1, 0, 0, 0, 1, 1, 0, 0, 0, 0, 0, 0, 1,\n",
       "       1, 0, 0, 0, 1, 1, 1, 1, 1, 0, 0, 0, 0, 0, 0, 0, 0, 0, 0, 0, 0, 0,\n",
       "       0, 0, 0, 0, 0, 0, 0, 0, 1, 0, 0, 0, 0, 1, 0, 0, 0, 1, 1, 1, 1, 1,\n",
       "       1, 1, 0, 1, 1, 1, 1, 1, 0, 0, 0, 0, 0, 1, 1, 1, 1, 0, 0, 0, 0, 0,\n",
       "       0, 1, 1, 1, 1, 0, 0, 1, 1, 1, 1, 0, 0, 0, 0, 0, 0, 0, 0, 0, 0, 0,\n",
       "       0, 0, 0, 0, 0, 0, 1, 1, 0, 0, 0, 0, 1, 1, 1, 1, 1, 0, 0, 1, 0, 0,\n",
       "       1, 0, 0, 0, 0, 1, 1, 1, 0, 0, 0, 0, 0, 0, 0, 0, 0, 0, 0, 0, 0, 0,\n",
       "       0, 1, 1, 1, 1, 0, 1, 0, 0, 0, 0, 1, 1, 1, 1, 1, 1, 1, 0, 0, 0, 0,\n",
       "       0, 1, 1, 1, 1, 0, 0, 0, 0, 1, 1, 1, 0, 1, 0, 0, 0, 1, 1, 1, 1, 1,\n",
       "       1, 0, 1, 1, 1, 1, 1, 1, 1, 1, 1, 1, 0, 0, 0, 0, 1, 0, 1, 0, 0, 0,\n",
       "       0, 1, 1, 1, 0, 0, 0, 0, 1, 0, 0, 0, 0, 0])"
      ]
     },
     "execution_count": 20,
     "metadata": {},
     "output_type": "execute_result"
    }
   ],
   "source": [
    "hidden_sequence_new"
   ]
  },
  {
   "cell_type": "code",
   "execution_count": 21,
   "metadata": {},
   "outputs": [
    {
     "data": {
      "text/plain": [
       "array([0, 4, 3, 5, 1, 0, 3, 4, 2, 2, 3, 3, 0, 3, 0, 3, 3, 1, 3, 0, 3, 3,\n",
       "       1, 3, 5, 1, 0, 3, 5, 2, 3, 3, 3, 1, 1, 3, 3, 5, 3, 1, 1, 5, 0, 0,\n",
       "       3, 4, 3, 3, 3, 5, 3, 3, 1, 5, 3, 5, 2, 5, 3, 5, 4, 1, 3, 3, 5, 3,\n",
       "       2, 4, 3, 4, 3, 3, 1, 5, 5, 4, 1, 0, 5, 0, 3, 1, 0, 3, 2, 2, 5, 0,\n",
       "       3, 3, 2, 2, 1, 3, 5, 3, 3, 5, 1, 3, 0, 0, 3, 5, 5, 3, 0, 0, 0, 5,\n",
       "       0, 3, 3, 2, 0, 5, 1, 3, 5, 3, 3, 0, 0, 3, 3, 0, 0, 0, 4, 0, 3, 3,\n",
       "       2, 3, 0, 3, 4, 5, 3, 3, 4, 4, 3, 5, 5, 0, 4, 3, 0, 3, 3, 1, 1, 3,\n",
       "       0, 3, 5, 3, 5, 3, 4, 3, 3, 3, 3, 3, 5, 1, 4, 5, 3, 3, 3, 3, 3, 3,\n",
       "       4, 3, 3, 3, 3, 4, 0, 3, 4, 5, 0, 3, 1, 3, 3, 4, 0, 3, 4, 5, 3, 3,\n",
       "       3, 4, 0, 3, 0, 3, 4, 3, 3, 3, 3, 2, 3, 3, 3, 2, 3, 1, 3, 0, 5, 1,\n",
       "       5, 2, 4, 3, 3, 3, 4, 3, 5, 2, 2, 1, 3, 1, 4, 4, 3, 3, 3, 5, 3, 1,\n",
       "       1, 2, 2, 3, 3, 3, 4, 5, 3, 1, 4, 3, 3, 3, 3, 0, 5, 5, 1, 3, 3, 3,\n",
       "       1, 4, 5, 4, 5, 1, 4, 3, 4, 3, 2, 3, 3, 1, 5, 3, 5, 3, 3, 3, 5, 1,\n",
       "       5, 5, 4, 4, 5, 3, 3, 3, 2, 3, 3, 1, 3, 4])"
      ]
     },
     "execution_count": 21,
     "metadata": {},
     "output_type": "execute_result"
    }
   ],
   "source": [
    "observed_sequence_new"
   ]
  },
  {
   "cell_type": "code",
   "execution_count": 22,
   "metadata": {},
   "outputs": [
    {
     "data": {
      "text/plain": [
       "1.8552639599659124e-206"
      ]
     },
     "execution_count": 22,
     "metadata": {},
     "output_type": "execute_result"
    }
   ],
   "source": [
    "#forward algorithm for sequence x (observed_sequence_new)\n",
    "forw_new, forw_prob_new = forward(observed_sequence_new, pi_new, transition_matrix_new, emission_matrix_new)\n",
    "forw_prob_new"
   ]
  },
  {
   "cell_type": "code",
   "execution_count": 23,
   "metadata": {},
   "outputs": [
    {
     "data": {
      "text/plain": [
       "1.855263959965912e-206"
      ]
     },
     "execution_count": 23,
     "metadata": {},
     "output_type": "execute_result"
    }
   ],
   "source": [
    "#backward algorithm for sequence x (observed_sequence_new)\n",
    "back_new, back_prob_new = backward(observed_sequence_new, pi_new, transition_matrix_new, emission_matrix_new)\n",
    "back_prob_new"
   ]
  },
  {
   "cell_type": "code",
   "execution_count": 24,
   "metadata": {},
   "outputs": [],
   "source": [
    "#parameter for transition matrix\n",
    "def model_param_a(trans, emis):\n",
    "    forw_new, forw_prob_new = forward(observed_sequence_new, pi_new, trans, emis)\n",
    "    back_new = backward(observed_sequence_new, pi_new, trans, emis)[0]\n",
    "    A = np.zeros((M, M))\n",
    "    a = np.zeros((M, M))\n",
    "    for i in range(M):\n",
    "        for j in range(M):\n",
    "            for k in range(1, L - 1):\n",
    "                A[i, j] += forw_new[k, i] * trans[i, j] * emis[j, observed_sequence_new[k] - 1] * back_new[j, k + 1]\n",
    "    A = A / forw_prob_new\n",
    "    for i in range(M):\n",
    "        for j in range(M):\n",
    "            a[i, j] = A[i, j] / np.sum(A[i])\n",
    "    return a"
   ]
  },
  {
   "cell_type": "code",
   "execution_count": 25,
   "metadata": {},
   "outputs": [
    {
     "data": {
      "text/plain": [
       "array([[0.80347851, 0.19652149],\n",
       "       [0.31607159, 0.68392841]])"
      ]
     },
     "execution_count": 25,
     "metadata": {},
     "output_type": "execute_result"
    }
   ],
   "source": [
    "model_param_a(transition_matrix_new, emission_matrix_new)"
   ]
  },
  {
   "cell_type": "code",
   "execution_count": 26,
   "metadata": {},
   "outputs": [
    {
     "data": {
      "text/plain": [
       "array([[0.80347851, 0.19652149],\n",
       "       [0.31607159, 0.68392841]])"
      ]
     },
     "execution_count": 26,
     "metadata": {},
     "output_type": "execute_result"
    }
   ],
   "source": [
    "#a0 = transition_matrix_new\n",
    "a0 = np.zeros((M, M))\n",
    "a1 = model_param_a(transition_matrix_new, emission_matrix_new)\n",
    "a1"
   ]
  },
  {
   "cell_type": "code",
   "execution_count": 27,
   "metadata": {},
   "outputs": [],
   "source": [
    "#parameter for emission matrix\n",
    "def model_param_e(trans, emis):\n",
    "    E = np.zeros((M, K))\n",
    "    e = np.zeros((M, K))\n",
    "    for i in range(M):\n",
    "        for j in range(K):\n",
    "            for k in range(L):\n",
    "                if observed_sequence_new[k] == j + 1:\n",
    "                    E[i, j] += forw_new[k, i] * back_new[i, k]\n",
    "    for i in range(M):\n",
    "        for j in range(K):\n",
    "            e[i, j] = E[i, j] / np.sum(E[i])\n",
    "    return e"
   ]
  },
  {
   "cell_type": "code",
   "execution_count": 28,
   "metadata": {},
   "outputs": [
    {
     "data": {
      "text/plain": [
       "array([[0.13613636, 0.1003861 , 0.39173311, 0.13567531, 0.23606913,\n",
       "        0.        ],\n",
       "       [0.11219742, 0.04744414, 0.61632325, 0.12086996, 0.10316523,\n",
       "        0.        ]])"
      ]
     },
     "execution_count": 28,
     "metadata": {},
     "output_type": "execute_result"
    }
   ],
   "source": [
    "#e0 = emission_matrix_new\n",
    "e0 = np.zeros((M, K))\n",
    "e1 = model_param_e(transition_matrix_new, emission_matrix_new)\n",
    "e1"
   ]
  },
  {
   "cell_type": "code",
   "execution_count": 29,
   "metadata": {},
   "outputs": [
    {
     "name": "stdout",
     "output_type": "stream",
     "text": [
      "[[0.99427662 0.00572338]\n",
      " [0.99840506 0.00159494]]\n",
      "41\n"
     ]
    }
   ],
   "source": [
    "kkk1=0\n",
    "while np.any(abs(a1 - a0) > 0.001):\n",
    "    a0, a1 = a1, model_param_a(a1, emission_matrix_new)\n",
    "    kkk1+=1\n",
    "print(a1)\n",
    "print(kkk1)"
   ]
  },
  {
   "cell_type": "code",
   "execution_count": 30,
   "metadata": {},
   "outputs": [
    {
     "name": "stdout",
     "output_type": "stream",
     "text": [
      "[[0.13613636 0.1003861  0.39173311 0.13567531 0.23606913 0.        ]\n",
      " [0.11219742 0.04744414 0.61632325 0.12086996 0.10316523 0.        ]]\n",
      "1\n"
     ]
    }
   ],
   "source": [
    "kkk2=0\n",
    "while np.any(abs(e1 - e0) > 0.001):\n",
    "    e0, e1 = e1, model_param_e(transition_matrix_new, e1)\n",
    "    kkk2+=1\n",
    "print(e1)\n",
    "print(kkk2)"
   ]
  }
 ],
 "metadata": {
  "kernelspec": {
   "display_name": "Python 3",
   "language": "python",
   "name": "python3"
  },
  "language_info": {
   "codemirror_mode": {
    "name": "ipython",
    "version": 3
   },
   "file_extension": ".py",
   "mimetype": "text/x-python",
   "name": "python",
   "nbconvert_exporter": "python",
   "pygments_lexer": "ipython3",
   "version": "3.7.3"
  }
 },
 "nbformat": 4,
 "nbformat_minor": 2
}
