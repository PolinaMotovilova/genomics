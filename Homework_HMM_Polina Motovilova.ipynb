{
 "cells": [
  {
   "cell_type": "code",
   "execution_count": 1,
   "metadata": {},
   "outputs": [],
   "source": [
    "import numpy as np\n",
    "import random\n",
    "import matplotlib.pyplot as plt"
   ]
  },
  {
   "cell_type": "code",
   "execution_count": 2,
   "metadata": {},
   "outputs": [],
   "source": [
    "M = 2 #number of states\n",
    "K = 6 #number of possible emissions\n",
    "L = 300 #length of sequence\n",
    "#beginning distribution is solution for system of equations: \n",
    "#(x,y)transition_matrix = x\n",
    "#x + y = 1\n",
    "pi = np.array([2.0/3, 1.0/3])\n",
    "transition_matrix = np.array([\n",
    "    [0.95, 0.05],\n",
    "    [0.1, 0.9]]\n",
    ")\n",
    "emission_matrix = np.array([\n",
    "    [1.0/6, 1.0/6, 1.0/6, 1.0/6, 1.0/6, 1.0/6],\n",
    "    [1.0/10, 1.0/10, 1.0/10, 1.0/10, 1.0/10, 5.0/10]]\n",
    ")"
   ]
  },
  {
   "cell_type": "code",
   "execution_count": 3,
   "metadata": {},
   "outputs": [],
   "source": [
    "dices = [0, 1]\n",
    "score = [0, 1, 2, 3, 4, 5]\n",
    "hidden_sequence, observed_sequence = np.zeros(L), np.zeros(L)\n",
    "hidden_sequence[0] = np.random.choice(dices, 1, p = pi)\n",
    "for i in range(1, L):\n",
    "    hidden_sequence[i] = np.random.choice(dices, 1, p = transition_matrix[int(hidden_sequence[i-1])])\n",
    "    observed_sequence[i] = np.random.choice(score, 1, p = emission_matrix[int(hidden_sequence[i-1])])"
   ]
  },
  {
   "cell_type": "code",
   "execution_count": 4,
   "metadata": {},
   "outputs": [
    {
     "data": {
      "text/plain": [
       "array([0., 0., 1., 1., 1., 1., 1., 1., 0., 0., 0., 0., 0., 0., 0., 0., 0.,\n",
       "       0., 0., 0., 0., 0., 0., 0., 0., 0., 0., 0., 0., 0., 0., 0., 0., 0.,\n",
       "       0., 0., 0., 0., 0., 0., 0., 0., 0., 0., 0., 1., 1., 0., 0., 0., 0.,\n",
       "       0., 0., 0., 0., 0., 0., 0., 1., 1., 1., 1., 1., 1., 1., 1., 1., 1.,\n",
       "       1., 1., 1., 1., 1., 0., 0., 0., 0., 0., 0., 0., 0., 0., 0., 1., 1.,\n",
       "       1., 1., 1., 1., 1., 1., 1., 1., 1., 1., 1., 1., 1., 1., 1., 1., 1.,\n",
       "       0., 0., 0., 0., 0., 0., 0., 0., 0., 0., 0., 0., 0., 0., 0., 0., 0.,\n",
       "       0., 0., 0., 0., 0., 0., 0., 0., 0., 0., 0., 0., 0., 0., 0., 0., 1.,\n",
       "       1., 1., 0., 0., 0., 0., 0., 0., 0., 0., 0., 0., 0., 0., 0., 0., 0.,\n",
       "       0., 0., 0., 0., 0., 0., 0., 0., 0., 0., 0., 0., 0., 0., 0., 0., 0.,\n",
       "       0., 0., 0., 0., 0., 0., 0., 0., 0., 0., 0., 0., 0., 0., 0., 0., 0.,\n",
       "       0., 0., 0., 0., 0., 0., 1., 0., 0., 0., 0., 0., 0., 0., 0., 0., 0.,\n",
       "       0., 0., 0., 1., 1., 1., 1., 1., 1., 1., 1., 1., 0., 0., 0., 1., 0.,\n",
       "       1., 1., 1., 1., 1., 1., 1., 1., 1., 1., 1., 1., 1., 1., 1., 1., 1.,\n",
       "       1., 1., 1., 0., 0., 0., 0., 0., 0., 0., 0., 1., 1., 1., 1., 1., 1.,\n",
       "       0., 0., 0., 0., 0., 0., 0., 0., 0., 0., 0., 0., 0., 0., 0., 0., 0.,\n",
       "       0., 1., 1., 1., 1., 0., 0., 0., 0., 0., 0., 0., 0., 0., 0., 0., 0.,\n",
       "       1., 1., 1., 1., 1., 1., 1., 1., 1., 1., 1.])"
      ]
     },
     "execution_count": 4,
     "metadata": {},
     "output_type": "execute_result"
    }
   ],
   "source": [
    "hidden_sequence"
   ]
  },
  {
   "cell_type": "code",
   "execution_count": 5,
   "metadata": {},
   "outputs": [
    {
     "data": {
      "text/plain": [
       "array([0., 1., 3., 4., 5., 3., 1., 0., 5., 0., 5., 4., 1., 0., 4., 4., 1.,\n",
       "       1., 5., 4., 3., 3., 2., 1., 5., 5., 5., 2., 2., 3., 3., 0., 4., 0.,\n",
       "       1., 0., 4., 0., 0., 0., 0., 5., 5., 2., 4., 1., 5., 0., 5., 3., 2.,\n",
       "       3., 1., 2., 5., 0., 2., 3., 3., 2., 0., 2., 5., 3., 2., 5., 1., 5.,\n",
       "       0., 5., 5., 4., 1., 5., 0., 3., 2., 5., 5., 5., 2., 3., 5., 4., 5.,\n",
       "       5., 5., 5., 0., 3., 5., 1., 4., 1., 0., 5., 3., 1., 0., 5., 3., 1.,\n",
       "       5., 4., 1., 2., 1., 5., 2., 4., 0., 2., 2., 2., 5., 1., 2., 0., 5.,\n",
       "       4., 3., 0., 2., 5., 0., 5., 4., 3., 2., 5., 0., 3., 3., 3., 3., 2.,\n",
       "       2., 5., 5., 0., 5., 3., 1., 1., 4., 4., 1., 3., 3., 4., 3., 0., 2.,\n",
       "       1., 5., 5., 3., 0., 4., 5., 0., 3., 0., 1., 0., 0., 5., 5., 0., 0.,\n",
       "       4., 1., 0., 3., 0., 3., 1., 0., 4., 2., 5., 0., 3., 0., 1., 0., 1.,\n",
       "       0., 1., 2., 4., 4., 2., 5., 4., 3., 3., 1., 1., 5., 5., 4., 5., 1.,\n",
       "       4., 2., 2., 0., 4., 1., 5., 5., 5., 0., 1., 4., 2., 4., 4., 2., 5.,\n",
       "       1., 2., 3., 2., 5., 3., 2., 5., 5., 3., 2., 1., 0., 1., 2., 1., 4.,\n",
       "       5., 5., 1., 1., 5., 3., 2., 3., 0., 1., 2., 5., 5., 5., 5., 5., 2.,\n",
       "       5., 1., 5., 1., 0., 5., 5., 0., 4., 3., 1., 4., 5., 3., 2., 0., 3.,\n",
       "       3., 1., 3., 1., 5., 1., 4., 0., 2., 2., 5., 2., 2., 1., 3., 0., 4.,\n",
       "       5., 5., 3., 1., 5., 5., 0., 0., 5., 1., 5.])"
      ]
     },
     "execution_count": 5,
     "metadata": {},
     "output_type": "execute_result"
    }
   ],
   "source": [
    "observed_sequence"
   ]
  },
  {
   "cell_type": "code",
   "execution_count": 6,
   "metadata": {},
   "outputs": [],
   "source": [
    "def viterbi(obs_seq,pi, A, B):\n",
    "    N = transition_matrix.shape[0]\n",
    "    delta = np.zeros((L, N))\n",
    "    psi = np.zeros((L, N))\n",
    "    delta[0] = pi*emission_matrix[:,int(observed_sequence[0])]\n",
    "    for l in range(1, L):\n",
    "        for j in range(N):\n",
    "            delta[l,j] = np.max(delta[l-1]*A[:,j]) * B[j, int(observed_sequence[l])]\n",
    "            psi[l,j] = np.argmax(delta[l-1]*A[:,j])\n",
    "\n",
    "    states = np.zeros(L, dtype=np.int32)\n",
    "    states[L-1] = np.argmax(delta[L-1])\n",
    "    for l in range(L-2, -1, -1):\n",
    "        states[l] = psi[l+1, states[l+1]]\n",
    "    return states"
   ]
  },
  {
   "cell_type": "code",
   "execution_count": 7,
   "metadata": {},
   "outputs": [
    {
     "data": {
      "text/plain": [
       "array([0, 0, 0, 0, 0, 0, 0, 0, 0, 0, 0, 0, 0, 0, 0, 0, 0, 0, 0, 0, 0, 0,\n",
       "       0, 0, 0, 0, 0, 0, 0, 0, 0, 0, 0, 0, 0, 0, 0, 0, 0, 0, 0, 0, 0, 0,\n",
       "       0, 0, 0, 0, 0, 0, 0, 0, 0, 0, 0, 0, 0, 0, 0, 0, 0, 0, 0, 0, 0, 1,\n",
       "       1, 1, 1, 1, 1, 1, 1, 1, 1, 1, 1, 1, 1, 1, 1, 1, 1, 1, 1, 1, 1, 1,\n",
       "       0, 0, 0, 0, 0, 0, 0, 0, 0, 0, 0, 0, 0, 0, 0, 0, 0, 0, 0, 0, 0, 0,\n",
       "       0, 0, 0, 0, 0, 0, 0, 0, 0, 0, 0, 0, 0, 0, 0, 0, 0, 0, 0, 0, 0, 0,\n",
       "       0, 0, 0, 0, 0, 0, 0, 0, 0, 0, 0, 0, 0, 0, 0, 0, 0, 0, 0, 0, 0, 0,\n",
       "       0, 0, 0, 0, 0, 0, 0, 0, 0, 0, 0, 0, 0, 0, 0, 0, 0, 0, 0, 0, 0, 0,\n",
       "       0, 0, 0, 0, 0, 0, 0, 0, 0, 0, 0, 0, 0, 0, 0, 0, 0, 0, 0, 0, 0, 0,\n",
       "       0, 0, 0, 0, 0, 0, 0, 0, 0, 0, 0, 0, 0, 0, 0, 0, 0, 0, 0, 0, 0, 0,\n",
       "       0, 0, 0, 0, 0, 0, 0, 0, 0, 0, 0, 0, 0, 0, 0, 0, 0, 0, 0, 0, 0, 0,\n",
       "       0, 0, 0, 0, 0, 0, 0, 1, 1, 1, 1, 1, 1, 1, 1, 1, 1, 1, 1, 1, 0, 0,\n",
       "       0, 0, 0, 0, 0, 0, 0, 0, 0, 0, 0, 0, 0, 0, 0, 0, 0, 0, 0, 0, 0, 0,\n",
       "       0, 0, 0, 1, 1, 1, 1, 1, 1, 1, 1, 1, 1, 1])"
      ]
     },
     "execution_count": 7,
     "metadata": {},
     "output_type": "execute_result"
    }
   ],
   "source": [
    "viterbi_path=viterbi(observed_sequence, pi, transition_matrix, emission_matrix)\n",
    "viterbi_path"
   ]
  },
  {
   "cell_type": "code",
   "execution_count": 8,
   "metadata": {},
   "outputs": [
    {
     "data": {
      "image/png": "[encoded data removed]",
      "text/plain": [
       "<Figure size 576x432 with 1 Axes>"
      ]
     },
     "metadata": {
      "needs_background": "light"
     },
     "output_type": "display_data"
    }
   ],
   "source": [
    "x = np.linspace(0, L, L)\n",
    "fig, ax = plt.subplots(1,1,figsize=(8, 6))\n",
    "ax.plot(x, hidden_sequence, ls ='-')\n",
    "ax.plot(x, viterbi_path, ls ='--')\n",
    "plt.title('Simulated path vs Viterbi most likely path')\n",
    "plt.grid()\n",
    "plt.show()"
   ]
  },
  {
   "cell_type": "code",
   "execution_count": 9,
   "metadata": {},
   "outputs": [],
   "source": [
    "#forward algorithm\n",
    "def forward(obs, pi, trans, emis):\n",
    "    forw = np.zeros((L, M))\n",
    "    forw[0] = pi*emis[:,int(obs[0])]\n",
    "    for l in range(1, L):\n",
    "        forw[l] = np.dot(forw[l-1],trans) * emis[:, int(obs[l])]\n",
    "    forw_prob = forw[-1].sum()\n",
    "    return forw, forw_prob"
   ]
  },
  {
   "cell_type": "code",
   "execution_count": 10,
   "metadata": {},
   "outputs": [
    {
     "data": {
      "text/plain": [
       "3.7575170855262705e-231"
      ]
     },
     "execution_count": 10,
     "metadata": {},
     "output_type": "execute_result"
    }
   ],
   "source": [
    "forw, forw_prob = forward(observed_sequence, pi, transition_matrix, emission_matrix)\n",
    "forw_prob"
   ]
  },
  {
   "cell_type": "code",
   "execution_count": 11,
   "metadata": {},
   "outputs": [],
   "source": [
    "#backward algorithm\n",
    "def backward(obs, trans, emis):\n",
    "    back = np.zeros((M,L))\n",
    "    back[:,-1:] = 1\n",
    "    for l in reversed(range(L-1)):\n",
    "        for m in range(M):\n",
    "            back[m,l] = np.sum(back[:,l+1] * trans[m,:] * emis[:,int(obs[l+1])])\n",
    "    back_prob = np.sum(pi * emis[:, int(obs[0])] * back[:,0])\n",
    "    return back, back_prob"
   ]
  },
  {
   "cell_type": "code",
   "execution_count": 12,
   "metadata": {},
   "outputs": [
    {
     "data": {
      "text/plain": [
       "3.757517085526273e-231"
      ]
     },
     "execution_count": 12,
     "metadata": {},
     "output_type": "execute_result"
    }
   ],
   "source": [
    "back, back_prob = backward(observed_sequence, transition_matrix, emission_matrix)\n",
    "back_prob"
   ]
  },
  {
   "cell_type": "code",
   "execution_count": 13,
   "metadata": {},
   "outputs": [
    {
     "data": {
      "text/plain": [
       "array([[0.89070736, 0.10929264],\n",
       "       [0.90323854, 0.09676146],\n",
       "       [0.89912002, 0.10087998],\n",
       "       [0.87689741, 0.12310259],\n",
       "       [0.82872307, 0.17127693],\n",
       "       [0.85267227, 0.14732773],\n",
       "       [0.85299966, 0.14700034],\n",
       "       [0.82982085, 0.17017915],\n",
       "       [0.77495056, 0.22504944],\n",
       "       [0.79835446, 0.20164554],\n",
       "       [0.79309325, 0.20690675],\n",
       "       [0.87127532, 0.12872468],\n",
       "       [0.91377889, 0.08622111],\n",
       "       [0.93561357, 0.06438643],\n",
       "       [0.94448999, 0.05551001],\n",
       "       [0.94354274, 0.05645726],\n",
       "       [0.93243733, 0.06756267],\n",
       "       [0.907252  , 0.092748  ],\n",
       "       [0.85909289, 0.14090711],\n",
       "       [0.87937759, 0.12062241],\n",
       "       [0.8793694 , 0.1206306 ],\n",
       "       [0.85906544, 0.14093456],\n",
       "       [0.81129561, 0.18870439],\n",
       "       [0.71919062, 0.28080938],\n",
       "       [0.55022476, 0.44977524],\n",
       "       [0.51221357, 0.48778643],\n",
       "       [0.55861196, 0.44138804],\n",
       "       [0.74623521, 0.25376479],\n",
       "       [0.85062802, 0.14937198],\n",
       "       [0.90865536, 0.09134464],\n",
       "       [0.94080885, 0.05919115],\n",
       "       [0.95844309, 0.04155691],\n",
       "       [0.96778539, 0.03221461],\n",
       "       [0.97213485, 0.02786515],\n",
       "       [0.97302743, 0.02697257],\n",
       "       [0.97077834, 0.02922166],\n",
       "       [0.96459335, 0.03540665],\n",
       "       [0.95228829, 0.04771171],\n",
       "       [0.92951779, 0.07048221],\n",
       "       [0.88824075, 0.11175925],\n",
       "       [0.81388071, 0.18611929],\n",
       "       [0.68017836, 0.31982164],\n",
       "       [0.65877713, 0.34122287],\n",
       "       [0.72347102, 0.27652898],\n",
       "       [0.7471339 , 0.2528661 ],\n",
       "       [0.73812202, 0.26187798],\n",
       "       [0.69325294, 0.30674706],\n",
       "       [0.73053553, 0.26946447],\n",
       "       [0.73269058, 0.26730942],\n",
       "       [0.82823357, 0.17176643],\n",
       "       [0.87925263, 0.12074737],\n",
       "       [0.90376449, 0.09623551],\n",
       "       [0.91042522, 0.08957478],\n",
       "       [0.90158695, 0.09841305],\n",
       "       [0.87412857, 0.12587143],\n",
       "       [0.91143293, 0.08856707],\n",
       "       [0.92917022, 0.07082978],\n",
       "       [0.93360413, 0.06639587],\n",
       "       [0.92630043, 0.07369957],\n",
       "       [0.90467991, 0.09532009],\n",
       "       [0.86110758, 0.13889242],\n",
       "       [0.7801964 , 0.2198036 ],\n",
       "       [0.63337364, 0.36662636],\n",
       "       [0.60602903, 0.39397097],\n",
       "       [0.52952388, 0.47047612],\n",
       "       [0.37684135, 0.62315865],\n",
       "       [0.34243176, 0.65756824],\n",
       "       [0.24983891, 0.75016109],\n",
       "       [0.23933442, 0.76066558],\n",
       "       [0.18056235, 0.81943765],\n",
       "       [0.18414088, 0.81585912],\n",
       "       [0.25445197, 0.74554803],\n",
       "       [0.27343362, 0.72656638],\n",
       "       [0.24778893, 0.75221107],\n",
       "       [0.28917583, 0.71082417],\n",
       "       [0.28442236, 0.71557764],\n",
       "       [0.23184988, 0.76815012],\n",
       "       [0.11289309, 0.88710691],\n",
       "       [0.07639769, 0.92360231],\n",
       "       [0.0776747 , 0.9223253 ],\n",
       "       [0.11828782, 0.88171218],\n",
       "       [0.11926294, 0.88073706],\n",
       "       [0.08094441, 0.91905559],\n",
       "       [0.08197736, 0.91802264],\n",
       "       [0.04730271, 0.95269729],\n",
       "       [0.04239459, 0.95760541],\n",
       "       [0.06124297, 0.93875703],\n",
       "       [0.12692787, 0.87307213],\n",
       "       [0.31988108, 0.68011892],\n",
       "       [0.41846885, 0.58153115],\n",
       "       [0.45750619, 0.54249381],\n",
       "       [0.62536493, 0.37463507],\n",
       "       [0.71377444, 0.28622556],\n",
       "       [0.75395539, 0.24604461],\n",
       "       [0.76009718, 0.23990282],\n",
       "       [0.7343687 , 0.2656313 ],\n",
       "       [0.78974916, 0.21025084],\n",
       "       [0.81040749, 0.18959251],\n",
       "       [0.80363891, 0.19636109],\n",
       "       [0.7670532 , 0.2329468 ],\n",
       "       [0.80783786, 0.19216214],\n",
       "       [0.81840155, 0.18159845],\n",
       "       [0.80247467, 0.19752533],\n",
       "       [0.86408459, 0.13591541],\n",
       "       [0.89481026, 0.10518974],\n",
       "       [0.90550205, 0.09449795],\n",
       "       [0.89993565, 0.10006435],\n",
       "       [0.87614533, 0.12385467],\n",
       "       [0.91719594, 0.08280406],\n",
       "       [0.93836259, 0.06163741],\n",
       "       [0.94712   , 0.05288   ],\n",
       "       [0.94656075, 0.05343925],\n",
       "       [0.93648733, 0.06351267],\n",
       "       [0.91334245, 0.08665755],\n",
       "       [0.86895279, 0.13104721],\n",
       "       [0.89097556, 0.10902444],\n",
       "       [0.89390475, 0.10609525],\n",
       "       [0.87877475, 0.12122525],\n",
       "       [0.84024263, 0.15975737],\n",
       "       [0.87140688, 0.12859312],\n",
       "       [0.87987761, 0.12012239],\n",
       "       [0.86864617, 0.13135383],\n",
       "       [0.83374631, 0.16625369],\n",
       "       [0.76285359, 0.23714641],\n",
       "       [0.77499391, 0.22500609],\n",
       "       [0.75679204, 0.24320796],\n",
       "       [0.81989621, 0.18010379],\n",
       "       [0.84833959, 0.15166041],\n",
       "       [0.8521666 , 0.1478334 ],\n",
       "       [0.8327287 , 0.1672713 ],\n",
       "       [0.88591096, 0.11408904],\n",
       "       [0.91258285, 0.08741715],\n",
       "       [0.9221632 , 0.0778368 ],\n",
       "       [0.9180352 , 0.0819648 ],\n",
       "       [0.8987411 , 0.1012589 ],\n",
       "       [0.85746743, 0.14253257],\n",
       "       [0.77963892, 0.22036108],\n",
       "       [0.63777142, 0.36222858],\n",
       "       [0.61283124, 0.38716876],\n",
       "       [0.6742789 , 0.3257211 ],\n",
       "       [0.69302687, 0.30697313],\n",
       "       [0.8210114 , 0.1789886 ],\n",
       "       [0.89218382, 0.10781618],\n",
       "       [0.93167778, 0.06832222],\n",
       "       [0.95344005, 0.04655995],\n",
       "       [0.96515571, 0.03484429],\n",
       "       [0.970962  , 0.029038  ],\n",
       "       [0.97290932, 0.02709068],\n",
       "       [0.97168536, 0.02831464],\n",
       "       [0.96685788, 0.03314212],\n",
       "       [0.95672211, 0.04327789],\n",
       "       [0.93769876, 0.06230124],\n",
       "       [0.90306995, 0.09693005],\n",
       "       [0.84060697, 0.15939303],\n",
       "       [0.72825182, 0.27174818],\n",
       "       [0.71675731, 0.28324269],\n",
       "       [0.7920483 , 0.2079517 ],\n",
       "       [0.82728204, 0.17271796],\n",
       "       [0.83490088, 0.16509912],\n",
       "       [0.8175953 , 0.1824047 ],\n",
       "       [0.87554106, 0.12445894],\n",
       "       [0.90465373, 0.09534627],\n",
       "       [0.91521407, 0.08478593],\n",
       "       [0.91095133, 0.08904867],\n",
       "       [0.89036018, 0.10963982],\n",
       "       [0.84616911, 0.15383089],\n",
       "       [0.76277261, 0.23722739],\n",
       "       [0.76660559, 0.23339441],\n",
       "       [0.8623616 , 0.1376384 ],\n",
       "       [0.91563259, 0.08436741],\n",
       "       [0.94523055, 0.05476945],\n",
       "       [0.96160763, 0.03839237],\n",
       "       [0.97054717, 0.02945283],\n",
       "       [0.97520605, 0.02479395],\n",
       "       [0.97722952, 0.02277048],\n",
       "       [0.97733212, 0.02266788],\n",
       "       [0.97555009, 0.02444991],\n",
       "       [0.97125412, 0.02874588],\n",
       "       [0.96292716, 0.03707284],\n",
       "       [0.94762864, 0.05237136],\n",
       "       [0.91995607, 0.08004393],\n",
       "       [0.94778131, 0.05221869],\n",
       "       [0.96321783, 0.03678217],\n",
       "       [0.97171684, 0.02828316],\n",
       "       [0.97627965, 0.02372035],\n",
       "       [0.97851755, 0.02148245],\n",
       "       [0.97922085, 0.02077915],\n",
       "       [0.9786379 , 0.0213621 ],\n",
       "       [0.97656283, 0.02343717],\n",
       "       [0.97226286, 0.02773714],\n",
       "       [0.96421952, 0.03578048],\n",
       "       [0.9495924 , 0.0504076 ],\n",
       "       [0.92321612, 0.07678388],\n",
       "       [0.87577624, 0.12422376],\n",
       "       [0.89432815, 0.10567185],\n",
       "       [0.89459484, 0.10540516],\n",
       "       [0.87667048, 0.12332952],\n",
       "       [0.83422532, 0.16577468],\n",
       "       [0.75227039, 0.24772961],\n",
       "       [0.60186434, 0.39813566],\n",
       "       [0.57288627, 0.42711373],\n",
       "       [0.62985224, 0.37014776],\n",
       "       [0.64316129, 0.35683871],\n",
       "       [0.76243661, 0.23756339],\n",
       "       [0.82530334, 0.17469666],\n",
       "       [0.85396206, 0.14603794],\n",
       "       [0.85853323, 0.14146677],\n",
       "       [0.84063111, 0.15936889],\n",
       "       [0.79393378, 0.20606622],\n",
       "       [0.70195068, 0.29804932],\n",
       "       [0.53219915, 0.46780085],\n",
       "       [0.49363182, 0.50636818],\n",
       "       [0.53902259, 0.46097741],\n",
       "       [0.72395293, 0.27604707],\n",
       "       [0.82593283, 0.17406717],\n",
       "       [0.8809752 , 0.1190248 ],\n",
       "       [0.90851756, 0.09148244],\n",
       "       [0.91828614, 0.08171386],\n",
       "       [0.91373059, 0.08626941],\n",
       "       [0.89324217, 0.10675783],\n",
       "       [0.84958567, 0.15041433],\n",
       "       [0.87488829, 0.12511171],\n",
       "       [0.87878806, 0.12121194],\n",
       "       [0.86266214, 0.13733786],\n",
       "       [0.82081585, 0.17918415],\n",
       "       [0.73847171, 0.26152829],\n",
       "       [0.74423527, 0.25576473],\n",
       "       [0.71686634, 0.28313366],\n",
       "       [0.64669992, 0.35330008],\n",
       "       [0.66421005, 0.33578995],\n",
       "       [0.79083806, 0.20916194],\n",
       "       [0.85968658, 0.14031342],\n",
       "       [0.89506859, 0.10493141],\n",
       "       [0.90947879, 0.09052121],\n",
       "       [0.90800595, 0.09199405],\n",
       "       [0.89012998, 0.10987002],\n",
       "       [0.84953818, 0.15046182],\n",
       "       [0.77189609, 0.22810391],\n",
       "       [0.6297854 , 0.3702146 ],\n",
       "       [0.60478239, 0.39521761],\n",
       "       [0.66627066, 0.33372934],\n",
       "       [0.68468336, 0.31531664],\n",
       "       [0.66652272, 0.33347728],\n",
       "       [0.73514341, 0.26485659],\n",
       "       [0.76233762, 0.23766238],\n",
       "       [0.75770864, 0.24229136],\n",
       "       [0.71962179, 0.28037821],\n",
       "       [0.6346272 , 0.3653728 ],\n",
       "       [0.47271011, 0.52728989],\n",
       "       [0.17669157, 0.82330843],\n",
       "       [0.07447696, 0.92552304],\n",
       "       [0.0409035 , 0.9590965 ],\n",
       "       [0.03486017, 0.96513983],\n",
       "       [0.04894684, 0.95105316],\n",
       "       [0.10041277, 0.89958723],\n",
       "       [0.11098163, 0.88901837],\n",
       "       [0.17660423, 0.82339577],\n",
       "       [0.19400183, 0.80599817],\n",
       "       [0.29010668, 0.70989332],\n",
       "       [0.32707009, 0.67292991],\n",
       "       [0.31794524, 0.68205476],\n",
       "       [0.38810994, 0.61189006],\n",
       "       [0.62348154, 0.37651846],\n",
       "       [0.75273061, 0.24726939],\n",
       "       [0.82149981, 0.17850019],\n",
       "       [0.85407413, 0.14592587],\n",
       "       [0.86195675, 0.13804325],\n",
       "       [0.84793133, 0.15206867],\n",
       "       [0.906051  , 0.093949  ],\n",
       "       [0.93802173, 0.06197827],\n",
       "       [0.9551336 , 0.0448664 ],\n",
       "       [0.96342942, 0.03657058],\n",
       "       [0.96583878, 0.03416122],\n",
       "       [0.96321249, 0.03678751],\n",
       "       [0.95462313, 0.04537687],\n",
       "       [0.93703746, 0.06296254],\n",
       "       [0.90424534, 0.09575466],\n",
       "       [0.93052808, 0.06947192],\n",
       "       [0.94223041, 0.05776959],\n",
       "       [0.94348488, 0.05651512],\n",
       "       [0.93473448, 0.06526552],\n",
       "       [0.91288913, 0.08711087],\n",
       "       [0.87023441, 0.12976559],\n",
       "       [0.89353791, 0.10646209],\n",
       "       [0.89789321, 0.10210679],\n",
       "       [0.88483831, 0.11516169],\n",
       "       [0.84976305, 0.15023695],\n",
       "       [0.78028104, 0.21971896],\n",
       "       [0.65185561, 0.34814439],\n",
       "       [0.41913495, 0.58086505],\n",
       "       [0.35093268, 0.64906732],\n",
       "       [0.36373444, 0.63626556],\n",
       "       [0.33059614, 0.66940386],\n",
       "       [0.23981542, 0.76018458],\n",
       "       [0.22951669, 0.77048331],\n",
       "       [0.28708907, 0.71291093],\n",
       "       [0.29583081, 0.70416919],\n",
       "       [0.25882894, 0.74117106],\n",
       "       [0.2898359 , 0.7101641 ],\n",
       "       [0.27567582, 0.72432418]])"
      ]
     },
     "execution_count": 13,
     "metadata": {},
     "output_type": "execute_result"
    }
   ],
   "source": [
    "#posterior probabilities\n",
    "posterior_prob = np.multiply(forw,back.T) / forw_prob\n",
    "posterior_prob"
   ]
  },
  {
   "cell_type": "code",
   "execution_count": 14,
   "metadata": {},
   "outputs": [
    {
     "data": {
      "image/png": "[encoded data removed]",
      "text/plain": [
       "<Figure size 576x432 with 1 Axes>"
      ]
     },
     "metadata": {
      "needs_background": "light"
     },
     "output_type": "display_data"
    }
   ],
   "source": [
    "#green area - wrong dice, white area - right dice\n",
    "fig, ax = plt.subplots(1, 1, figsize=(8, 6))\n",
    "for i in range(L):\n",
    "    if hidden_sequence[i] == 0:\n",
    "        plt.axvline(x = i, color = 'white')\n",
    "    else:\n",
    "        plt.axvline(x = i, color = 'green')\n",
    "plt.plot(range(L), posterior_prob[:,0], color = 'black', linewidth = 2)\n",
    "plt.title('Posterior probability with simulated path areas')\n",
    "plt.show()"
   ]
  },
  {
   "cell_type": "code",
   "execution_count": 15,
   "metadata": {},
   "outputs": [],
   "source": [
    "#initialization (assign random values)\n",
    "transition_matrix_new = np.array([\n",
    "    [5.0/10, 5.0/10],\n",
    "    [4.0/10, 6.0/10]]\n",
    ")\n",
    "emission_matrix_new = np.array([\n",
    "    [4.0/10, 1.0/5, 1.0/10, 1.0/10, 1.0/10, 1.0/10],\n",
    "    [4.0/10, 1.0/5, 1.0/10, 1.0/10, 1.0/10, 1.0/10]]\n",
    ")\n",
    "pi_new = np.array([5.0/10, 5.0/10])"
   ]
  },
  {
   "cell_type": "code",
   "execution_count": 16,
   "metadata": {},
   "outputs": [
    {
     "data": {
      "text/plain": [
       "2.854495385411965e-255"
      ]
     },
     "execution_count": 16,
     "metadata": {},
     "output_type": "execute_result"
    }
   ],
   "source": [
    "#forward algorithm for sequence x (observed_sequence)\n",
    "forw, forw_prob = forward(observed_sequence, pi_new, transition_matrix_new, emission_matrix_new)\n",
    "forw_prob"
   ]
  },
  {
   "cell_type": "code",
   "execution_count": 17,
   "metadata": {},
   "outputs": [
    {
     "data": {
      "text/plain": [
       "2.8544953854119686e-255"
      ]
     },
     "execution_count": 17,
     "metadata": {},
     "output_type": "execute_result"
    }
   ],
   "source": [
    "#backward algorithm for sequence x (observed_sequence)\n",
    "back, back_prob = backward(observed_sequence, transition_matrix_new, emission_matrix_new)\n",
    "back_prob"
   ]
  },
  {
   "cell_type": "code",
   "execution_count": 30,
   "metadata": {},
   "outputs": [],
   "source": [
    "#parameter for transition matrix\n",
    "def model_param_a(obs, trans, emis, forw, back):\n",
    "    A = np.zeros((M, M))\n",
    "    a = np.zeros((M, M))\n",
    "    for i in range(M):\n",
    "        for j in range(M):\n",
    "            for k in range(1, L - 1):\n",
    "                A[i, j] = np.sum(forw[k, i] * trans[i, j] * emis[j, int(obs[i])] * back[j, k + 1])\n",
    "    A = A / back_prob\n",
    "    for i in range(M):\n",
    "        for j in range(M):\n",
    "            a[i, j] = A[i, j] / np.sum(A[i])\n",
    "    return a"
   ]
  },
  {
   "cell_type": "code",
   "execution_count": 32,
   "metadata": {},
   "outputs": [
    {
     "data": {
      "text/plain": [
       "array([[0.5, 0.5],\n",
       "       [0.4, 0.6]])"
      ]
     },
     "execution_count": 32,
     "metadata": {},
     "output_type": "execute_result"
    }
   ],
   "source": [
    "model_param_a(observed_sequence, transition_matrix_new, emission_matrix_new, forw, back)"
   ]
  },
  {
   "cell_type": "code",
   "execution_count": 34,
   "metadata": {},
   "outputs": [],
   "source": [
    "#parameter for emission matrix\n",
    "def model_param_e(obs, trans, emis, forw, back):\n",
    "    E = np.zeros((M, K))\n",
    "    e = np.zeros((M, K))\n",
    "    for i in range(M):\n",
    "        for j in range(K):\n",
    "            for k in range(L):\n",
    "                if obs[k] == j + 1:\n",
    "                    E[i, j] = np.sum(forw[k, i] * back[i, k])\n",
    "    for i in range(M):\n",
    "        for j in range(K):\n",
    "            e[i, j] = E[i, j] / np.sum(E[i])\n",
    "    return e"
   ]
  },
  {
   "cell_type": "code",
   "execution_count": 35,
   "metadata": {},
   "outputs": [
    {
     "data": {
      "text/plain": [
       "array([[0.2, 0.2, 0.2, 0.2, 0.2, 0. ],\n",
       "       [0.2, 0.2, 0.2, 0.2, 0.2, 0. ]])"
      ]
     },
     "execution_count": 35,
     "metadata": {},
     "output_type": "execute_result"
    }
   ],
   "source": [
    "model_param_e(observed_sequence, transition_matrix_new, emission_matrix_new, forw, back)"
   ]
  }
 ],
 "metadata": {
  "kernelspec": {
   "display_name": "Python 3",
   "language": "python",
   "name": "python3"
  },
  "language_info": {
   "codemirror_mode": {
    "name": "ipython",
    "version": 3
   },
   "file_extension": ".py",
   "mimetype": "text/x-python",
   "name": "python",
   "nbconvert_exporter": "python",
   "pygments_lexer": "ipython3",
   "version": "3.7.3"
  }
 },
 "nbformat": 4,
 "nbformat_minor": 2
}
